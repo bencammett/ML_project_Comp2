{
 "cells": [
  {
   "cell_type": "code",
   "execution_count": 1,
   "metadata": {},
   "outputs": [],
   "source": [
    "import uproot\n",
    "import uproot_methods\n",
    "import awkward\n",
    "import matplotlib.pyplot as plt\n",
    "import numpy as np\n",
    "from awkward import JaggedArray"
   ]
  },
  {
   "cell_type": "code",
   "execution_count": 2,
   "metadata": {},
   "outputs": [],
   "source": [
    "T_ee = uproot.open(\"/home/physicist/results/ML_project_Comp2/zjets_pt170_ee.root\")[\"T\"]\n",
    "T_bb = uproot.open(\"/home/physicist/results/ML_project_Comp2/zjets_pt170_bb.root\")[\"T\"]"
   ]
  },
  {
   "cell_type": "code",
   "execution_count": 3,
   "metadata": {},
   "outputs": [],
   "source": [
    "gen_a = T_ee.arrays(['gen_pt', 'gen_eta', 'gen_phi', 'gen_m',\n",
    "               'gen_id', 'gen_status',\n",
    "               'gen_mother1', 'gen_mother2',\n",
    "               'gen_daughter1', 'gen_daughter2',\n",
    "               'gen_col'])\n",
    "\n",
    "gen_b = T_bb.arrays(['gen_pt', 'gen_eta', 'gen_phi', 'gen_m',\n",
    "               'gen_id', 'gen_status', \n",
    "               'gen_mother1', 'gen_mother2',\n",
    "               'gen_daughter1', 'gen_daughter2',\n",
    "               'gen_col'])\n",
    "\n",
    "gen_id_ee_raw = gen_a[b'gen_id']\n",
    "gen_status_ee_raw = gen_a[b'gen_status']\n",
    "\n",
    "gen_id_bb_raw = gen_b[b'gen_id']\n",
    "gen_status_bb_raw = gen_b[b'gen_status']"
   ]
  },
  {
   "cell_type": "code",
   "execution_count": null,
   "metadata": {},
   "outputs": [],
   "source": []
  }
 ],
 "metadata": {
  "kernelspec": {
   "display_name": "Python 3",
   "language": "python",
   "name": "python3"
  },
  "language_info": {
   "codemirror_mode": {
    "name": "ipython",
    "version": 3
   },
   "file_extension": ".py",
   "mimetype": "text/x-python",
   "name": "python",
   "nbconvert_exporter": "python",
   "pygments_lexer": "ipython3",
   "version": "3.6.8"
  }
 },
 "nbformat": 4,
 "nbformat_minor": 2
}
