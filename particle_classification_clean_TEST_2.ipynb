{
 "cells": [
  {
   "cell_type": "code",
   "execution_count": 1,
   "metadata": {},
   "outputs": [
    {
     "name": "stdout",
     "output_type": "stream",
     "text": [
      "1.12.0\n"
     ]
    }
   ],
   "source": [
    "from __future__ import absolute_import, division, print_function, unicode_literals\n",
    "\n",
    "import tensorflow as tf\n",
    "from tensorflow import keras\n",
    "\n",
    "import numpy as np\n",
    "\n",
    "from copy import copy, deepcopy\n",
    "\n",
    "print(tf.__version__)"
   ]
  },
  {
   "cell_type": "markdown",
   "metadata": {},
   "source": [
    "Data read-in in read_part_class.ipynb, utilize results here:"
   ]
  },
  {
   "cell_type": "code",
   "execution_count": 2,
   "metadata": {},
   "outputs": [],
   "source": [
    "%run read_part_class_clean.ipynb"
   ]
  },
  {
   "cell_type": "code",
   "execution_count": 3,
   "metadata": {},
   "outputs": [
    {
     "name": "stdout",
     "output_type": "stream",
     "text": [
      "2574\n",
      "1318\n",
      "7130\n",
      "1580\n"
     ]
    }
   ],
   "source": [
    "print(len(gen_id_ee_raw))\n",
    "sizes_ee = []\n",
    "for i in range(0,len(gen_id_ee_raw)):\n",
    "    sizes_ee.append(len(gen_id_ee_raw[i]))\n",
    "print(np.amax(sizes_ee))\n",
    "\n",
    "print(len(gen_id_bb_raw))\n",
    "sizes_bb = []\n",
    "for i in range(0,len(gen_id_bb_raw)):\n",
    "    sizes_bb.append(len(gen_id_bb_raw[i]))\n",
    "print(np.amax(sizes_bb))"
   ]
  },
  {
   "cell_type": "code",
   "execution_count": 4,
   "metadata": {},
   "outputs": [
    {
     "name": "stdout",
     "output_type": "stream",
     "text": [
      "1580\n"
     ]
    }
   ],
   "source": [
    "max_len = -1\n",
    "\n",
    "if (np.amax(sizes_ee)) >= (np.amax(sizes_bb)):\n",
    "    max_len = np.amax(sizes_ee)\n",
    "else:\n",
    "    max_len = np.amax(sizes_bb)\n",
    "\n",
    "print(max_len)"
   ]
  },
  {
   "cell_type": "markdown",
   "metadata": {},
   "source": [
    "Select final state particles, i.e., gen_status = 91\n",
    "\n",
    "Find the index of this for each row -- filter out previous particles by copying array starting at index of first status = 91 particle (all following this index are status = 91 aprticles as well), however we want gen_id, so this is what we copy. (**tl;dr** -- copying gen_id of particles that are final state, find such by finding where gen_status = 91 starts)\n",
    "\n",
    "Also need to pad input so that arrays are all same size (will needed for later when combining anyways):"
   ]
  },
  {
   "cell_type": "code",
   "execution_count": 5,
   "metadata": {},
   "outputs": [
    {
     "name": "stdout",
     "output_type": "stream",
     "text": [
      "[[   0    0    0 ...    0    0    0]\n",
      " [ 211  211 -211 ...    0    0    0]\n",
      " [2212  211 -211 ...    0    0    0]\n",
      " ...\n",
      " [ 130 -211  211 ...    0    0    0]\n",
      " [ 211 -211  211 ...    0    0    0]\n",
      " [ 130  211 -211 ...    0    0    0]]\n"
     ]
    }
   ],
   "source": [
    "gen_id_ee = np.array([0]*max_len)\n",
    "\n",
    "for row in range(0,len(gen_id_ee_raw)):\n",
    "    first_index = np.where(gen_status_ee_raw[row]==91)[0][0]\n",
    "    gen_id_ee_cpy = deepcopy(gen_id_ee_raw[row][first_index:])\n",
    "    gen_id_ee_cpy_pad = np.pad(gen_id_ee_cpy, (0, max_len - len(gen_id_ee_cpy)%max_len), 'constant')\n",
    "    gen_id_ee = np.vstack((gen_id_ee, gen_id_ee_cpy_pad))\n",
    "\n",
    "print(gen_id_ee)"
   ]
  },
  {
   "cell_type": "code",
   "execution_count": 6,
   "metadata": {},
   "outputs": [
    {
     "name": "stdout",
     "output_type": "stream",
     "text": [
      "[[    0     0     0 ...     0     0     0]\n",
      " [  211  -211  -211 ...     0     0     0]\n",
      " [  211  -211  -211 ...     0     0     0]\n",
      " ...\n",
      " [ -211   211 -2212 ...     0     0     0]\n",
      " [  211   211  -211 ...     0     0     0]\n",
      " [  211  -211   211 ...     0     0     0]]\n"
     ]
    }
   ],
   "source": [
    "gen_id_bb = np.array([0]*max_len)\n",
    "\n",
    "for row in range(0,len(gen_id_bb_raw)):\n",
    "    first_index = np.where(gen_status_bb_raw[row]==91)[0][0]\n",
    "    gen_id_bb_cpy = deepcopy(gen_id_bb_raw[row][first_index:])\n",
    "    gen_id_bb_cpy_pad = np.pad(gen_id_bb_cpy, (0, max_len - len(gen_id_bb_cpy)%max_len), 'constant')\n",
    "    gen_id_bb = np.vstack((gen_id_bb, gen_id_bb_cpy_pad))\n",
    "\n",
    "print(gen_id_bb)"
   ]
  },
  {
   "cell_type": "markdown",
   "metadata": {},
   "source": [
    "Make class names / tags for jets:"
   ]
  },
  {
   "cell_type": "code",
   "execution_count": 7,
   "metadata": {},
   "outputs": [
    {
     "name": "stdout",
     "output_type": "stream",
     "text": [
      "['Z_ee_jet', 'Z_bb_jet']\n",
      "[0 0 0 ... 0 0 0]\n",
      "2575\n",
      "(2575,)\n",
      "2575\n",
      "(2575, 1580)\n",
      "[1 1 1 ... 1 1 1]\n",
      "7131\n",
      "(7131,)\n",
      "7131\n",
      "(7131, 1580)\n"
     ]
    }
   ],
   "source": [
    "class_names = ['Z_ee_jet', 'Z_bb_jet']\n",
    "print(class_names)\n",
    "Z_ee_jet = np.array([0]*len(gen_id_ee))\n",
    "Z_bb_jet = np.array([1]*len(gen_id_bb))\n",
    "\n",
    "print(Z_ee_jet)\n",
    "print(len(Z_ee_jet))\n",
    "print(Z_ee_jet.shape)\n",
    "print(len(gen_id_ee))\n",
    "print(gen_id_ee.shape)\n",
    "\n",
    "print(Z_bb_jet)\n",
    "print(len(Z_bb_jet))\n",
    "print(Z_bb_jet.shape)\n",
    "print(len(gen_id_bb))\n",
    "print(gen_id_bb.shape)"
   ]
  },
  {
   "cell_type": "markdown",
   "metadata": {},
   "source": [
    "(Quick visual check of ID distribution)"
   ]
  },
  {
   "cell_type": "code",
   "execution_count": 8,
   "metadata": {},
   "outputs": [],
   "source": [
    "# id_bins = np.linspace(-300,300,301)\n",
    "# plt.hist(x=gen_id_ee.flatten(), bins=id_bins, log=True, density=True)\n",
    "\n",
    "# plt.show()"
   ]
  },
  {
   "cell_type": "markdown",
   "metadata": {},
   "source": [
    "Start to build network:\n",
    "\n",
    "**Directions: Comment- or uncomment- out various combinations of layers (can vary nodes as well) for various final accuracy**"
   ]
  },
  {
   "cell_type": "code",
   "execution_count": 9,
   "metadata": {},
   "outputs": [],
   "source": [
    "model = keras.Sequential([\n",
    "#     keras.layers.Dense(256, activation=tf.nn.tanh),\n",
    "#     keras.layers.LeakyReLU(alpha=0.3),\n",
    "    keras.layers.Dense(256, activation=tf.nn.relu),\n",
    "    keras.layers.Dense(16, activation=tf.nn.softmax),\n",
    "#     keras.layers.Dense(1, activation=tf.nn.sigmoid)\n",
    "#     keras.layers.Dense(1)\n",
    "])"
   ]
  },
  {
   "cell_type": "markdown",
   "metadata": {},
   "source": [
    "Choice of loss='sparse_categorical_crossentropy' which expects integer labels"
   ]
  },
  {
   "cell_type": "code",
   "execution_count": 10,
   "metadata": {},
   "outputs": [],
   "source": [
    "model.compile(optimizer='adam',\n",
    "              loss='sparse_categorical_crossentropy',\n",
    "#               loss='binary_crossentropy',\n",
    "              metrics=['acc'])"
   ]
  },
  {
   "cell_type": "markdown",
   "metadata": {},
   "source": [
    "Will split up for testing vs. validation:"
   ]
  },
  {
   "cell_type": "code",
   "execution_count": 11,
   "metadata": {},
   "outputs": [
    {
     "name": "stdout",
     "output_type": "stream",
     "text": [
      "2575\n",
      "1287.5\n",
      "7131\n",
      "3565.5\n",
      "1287\n",
      "3565\n"
     ]
    }
   ],
   "source": [
    "print(len(gen_id_ee))\n",
    "print(len(gen_id_ee)/2)\n",
    "\n",
    "print(len(gen_id_bb))\n",
    "print(len(gen_id_bb)/2)\n",
    "\n",
    "half_ee = int(len(gen_id_ee)/2)\n",
    "half_bb = int(len(gen_id_bb)/2)\n",
    "\n",
    "print(half_ee)\n",
    "print(half_bb)\n",
    "\n",
    "# data\n",
    "x_val_ee = gen_id_ee[:half_ee]\n",
    "partial_x_train_ee = gen_id_ee[half_ee:]\n",
    "\n",
    "x_val_bb = gen_id_bb[:half_bb]\n",
    "partial_x_train_bb = gen_id_bb[half_bb:]\n",
    "\n",
    "# labels of data\n",
    "y_val_ee = Z_ee_jet[:half_ee]\n",
    "partial_y_train_ee = Z_ee_jet[half_ee:]\n",
    "\n",
    "y_val_bb = Z_bb_jet[:half_bb]\n",
    "partial_y_train_bb = Z_bb_jet[half_bb:]"
   ]
  },
  {
   "cell_type": "markdown",
   "metadata": {},
   "source": [
    "Double check lengths of input data & labels (ee):"
   ]
  },
  {
   "cell_type": "code",
   "execution_count": 12,
   "metadata": {},
   "outputs": [
    {
     "name": "stdout",
     "output_type": "stream",
     "text": [
      "1287\n",
      "1288\n",
      "1580\n",
      "1580\n",
      "(1287, 1580)\n",
      "(1288, 1580)\n",
      "[0 0 0 ... 0 0 0]\n",
      "[0 0 0 ... 0 0 0]\n",
      "(1287,)\n",
      "(1288,)\n"
     ]
    }
   ],
   "source": [
    "print(len(x_val_ee))\n",
    "print(len(partial_x_train_ee))\n",
    "print(len(x_val_ee[0]))\n",
    "print(len(partial_x_train_ee[0]))\n",
    "print(x_val_ee.shape)\n",
    "print(partial_x_train_ee.shape)\n",
    "print(y_val_ee)\n",
    "print(partial_y_train_ee)\n",
    "print(y_val_ee.shape)\n",
    "print(partial_y_train_ee.shape)"
   ]
  },
  {
   "cell_type": "markdown",
   "metadata": {},
   "source": [
    "Double check lengths of input data & labels (bb):"
   ]
  },
  {
   "cell_type": "code",
   "execution_count": 13,
   "metadata": {},
   "outputs": [
    {
     "name": "stdout",
     "output_type": "stream",
     "text": [
      "3565\n",
      "3566\n",
      "1580\n",
      "1580\n",
      "(3565, 1580)\n",
      "(3566, 1580)\n",
      "[1 1 1 ... 1 1 1]\n",
      "[1 1 1 ... 1 1 1]\n",
      "(3565,)\n",
      "(3566,)\n"
     ]
    }
   ],
   "source": [
    "print(len(x_val_bb))\n",
    "print(len(partial_x_train_bb))\n",
    "print(len(x_val_bb[0]))\n",
    "print(len(partial_x_train_bb[0]))\n",
    "print(x_val_bb.shape)\n",
    "print(partial_x_train_bb.shape)\n",
    "print(y_val_bb)\n",
    "print(partial_y_train_bb)\n",
    "print(y_val_bb.shape)\n",
    "print(partial_y_train_bb.shape)"
   ]
  },
  {
   "cell_type": "markdown",
   "metadata": {},
   "source": [
    "Combine ee and bb for feading to network:"
   ]
  },
  {
   "cell_type": "code",
   "execution_count": 14,
   "metadata": {},
   "outputs": [
    {
     "name": "stdout",
     "output_type": "stream",
     "text": [
      "[0 0 0 ... 1 1 1]\n",
      "4854\n"
     ]
    }
   ],
   "source": [
    "x_val = np.vstack((x_val_ee, x_val_bb))\n",
    "y_val = np.concatenate((y_val_ee, y_val_bb), axis=None)\n",
    "\n",
    "partial_x_train = np.vstack((partial_x_train_ee, partial_x_train_bb))\n",
    "partial_y_train = np.concatenate((partial_y_train_ee, partial_y_train_bb))\n",
    "\n",
    "print(partial_y_train)\n",
    "print(len(partial_y_train))"
   ]
  },
  {
   "cell_type": "markdown",
   "metadata": {},
   "source": [
    "Train model, monitor the model's loss and accuracy on samples from the validation set:"
   ]
  },
  {
   "cell_type": "code",
   "execution_count": 15,
   "metadata": {},
   "outputs": [
    {
     "name": "stdout",
     "output_type": "stream",
     "text": [
      "Train on 4854 samples, validate on 4852 samples\n",
      "Epoch 1/30\n",
      "4854/4854 [==============================] - 1s 140us/step - loss: 11.6445 - acc: 0.2703 - val_loss: 7.8862 - val_acc: 0.5037\n",
      "Epoch 2/30\n",
      "4854/4854 [==============================] - 0s 97us/step - loss: 5.5192 - acc: 0.6545 - val_loss: 4.6165 - val_acc: 0.7121\n",
      "Epoch 3/30\n",
      "4854/4854 [==============================] - 0s 98us/step - loss: 4.6256 - acc: 0.7122 - val_loss: 4.4107 - val_acc: 0.7249\n",
      "Epoch 4/30\n",
      "4854/4854 [==============================] - 0s 95us/step - loss: 4.3704 - acc: 0.7283 - val_loss: 4.3755 - val_acc: 0.7277\n",
      "Epoch 5/30\n",
      "4854/4854 [==============================] - 0s 97us/step - loss: 4.3318 - acc: 0.7311 - val_loss: 4.3929 - val_acc: 0.7271\n",
      "Epoch 6/30\n",
      "4854/4854 [==============================] - 0s 97us/step - loss: 4.3253 - acc: 0.7316 - val_loss: 4.3557 - val_acc: 0.7292\n",
      "Epoch 7/30\n",
      "4854/4854 [==============================] - 0s 96us/step - loss: 4.3051 - acc: 0.7326 - val_loss: 4.3262 - val_acc: 0.7315\n",
      "Epoch 8/30\n",
      "4854/4854 [==============================] - 0s 98us/step - loss: 4.2652 - acc: 0.7353 - val_loss: 4.2933 - val_acc: 0.7333\n",
      "Epoch 9/30\n",
      "4854/4854 [==============================] - 0s 97us/step - loss: 4.2467 - acc: 0.7363 - val_loss: 4.2948 - val_acc: 0.7331\n",
      "Epoch 10/30\n",
      "4854/4854 [==============================] - 0s 98us/step - loss: 4.2518 - acc: 0.7361 - val_loss: 4.2979 - val_acc: 0.7331\n",
      "Epoch 11/30\n",
      "4854/4854 [==============================] - 0s 97us/step - loss: 4.2577 - acc: 0.7357 - val_loss: 4.3174 - val_acc: 0.7319\n",
      "Epoch 12/30\n",
      "4854/4854 [==============================] - 0s 97us/step - loss: 4.2570 - acc: 0.7359 - val_loss: 4.3187 - val_acc: 0.7319\n",
      "Epoch 13/30\n",
      "4854/4854 [==============================] - 0s 98us/step - loss: 4.2570 - acc: 0.7359 - val_loss: 4.3187 - val_acc: 0.7319\n",
      "Epoch 14/30\n",
      "4854/4854 [==============================] - 0s 97us/step - loss: 4.2570 - acc: 0.7359 - val_loss: 4.3187 - val_acc: 0.7319\n",
      "Epoch 15/30\n",
      "4854/4854 [==============================] - 0s 99us/step - loss: 4.2570 - acc: 0.7359 - val_loss: 4.3187 - val_acc: 0.7319\n",
      "Epoch 16/30\n",
      "4854/4854 [==============================] - 0s 96us/step - loss: 4.2570 - acc: 0.7359 - val_loss: 4.3187 - val_acc: 0.7319\n",
      "Epoch 17/30\n",
      "4854/4854 [==============================] - 0s 98us/step - loss: 4.2570 - acc: 0.7359 - val_loss: 4.3187 - val_acc: 0.7319\n",
      "Epoch 18/30\n",
      "4854/4854 [==============================] - 0s 97us/step - loss: 4.2570 - acc: 0.7359 - val_loss: 4.3187 - val_acc: 0.7319\n",
      "Epoch 19/30\n",
      "4854/4854 [==============================] - 0s 96us/step - loss: 4.2570 - acc: 0.7359 - val_loss: 4.3187 - val_acc: 0.7319\n",
      "Epoch 20/30\n",
      "4854/4854 [==============================] - 0s 95us/step - loss: 4.2570 - acc: 0.7359 - val_loss: 4.3187 - val_acc: 0.7319\n",
      "Epoch 21/30\n",
      "4854/4854 [==============================] - 0s 98us/step - loss: 4.2570 - acc: 0.7359 - val_loss: 4.3187 - val_acc: 0.7319\n",
      "Epoch 22/30\n",
      "4854/4854 [==============================] - 0s 98us/step - loss: 4.2570 - acc: 0.7359 - val_loss: 4.3187 - val_acc: 0.7319\n",
      "Epoch 23/30\n",
      "4854/4854 [==============================] - 0s 96us/step - loss: 4.2570 - acc: 0.7359 - val_loss: 4.3187 - val_acc: 0.7319\n",
      "Epoch 24/30\n",
      "4854/4854 [==============================] - 0s 97us/step - loss: 4.2570 - acc: 0.7359 - val_loss: 4.3187 - val_acc: 0.7319\n",
      "Epoch 25/30\n",
      "4854/4854 [==============================] - 0s 97us/step - loss: 4.2570 - acc: 0.7359 - val_loss: 4.3187 - val_acc: 0.7319\n",
      "Epoch 26/30\n",
      "4854/4854 [==============================] - 0s 98us/step - loss: 4.2570 - acc: 0.7359 - val_loss: 4.3187 - val_acc: 0.7319\n",
      "Epoch 27/30\n",
      "4854/4854 [==============================] - 0s 97us/step - loss: 4.2570 - acc: 0.7359 - val_loss: 4.3187 - val_acc: 0.7319\n",
      "Epoch 28/30\n",
      "4854/4854 [==============================] - 0s 99us/step - loss: 4.2570 - acc: 0.7359 - val_loss: 4.3187 - val_acc: 0.7319\n",
      "Epoch 29/30\n",
      "4854/4854 [==============================] - 0s 97us/step - loss: 4.2570 - acc: 0.7359 - val_loss: 4.3187 - val_acc: 0.7319\n",
      "Epoch 30/30\n",
      "4854/4854 [==============================] - 0s 100us/step - loss: 4.2570 - acc: 0.7359 - val_loss: 4.3187 - val_acc: 0.7319\n"
     ]
    }
   ],
   "source": [
    "history = model.fit(partial_x_train,\n",
    "                    partial_y_train,\n",
    "                    epochs=30,\n",
    "                    batch_size=128,\n",
    "                    validation_data=(x_val, y_val),\n",
    "                    verbose=1)"
   ]
  },
  {
   "cell_type": "code",
   "execution_count": 16,
   "metadata": {},
   "outputs": [
    {
     "name": "stdout",
     "output_type": "stream",
     "text": [
      "_________________________________________________________________\n",
      "Layer (type)                 Output Shape              Param #   \n",
      "=================================================================\n",
      "dense (Dense)                multiple                  404736    \n",
      "_________________________________________________________________\n",
      "dense_1 (Dense)              multiple                  4112      \n",
      "=================================================================\n",
      "Total params: 408,848\n",
      "Trainable params: 408,848\n",
      "Non-trainable params: 0\n",
      "_________________________________________________________________\n"
     ]
    }
   ],
   "source": [
    "model.summary()"
   ]
  },
  {
   "cell_type": "markdown",
   "metadata": {},
   "source": [
    "Check loss and accuracy over epochs:"
   ]
  },
  {
   "cell_type": "code",
   "execution_count": 17,
   "metadata": {},
   "outputs": [
    {
     "data": {
      "text/plain": [
       "dict_keys(['val_loss', 'val_acc', 'loss', 'acc'])"
      ]
     },
     "execution_count": 17,
     "metadata": {},
     "output_type": "execute_result"
    }
   ],
   "source": [
    "history_dict = history.history\n",
    "history_dict.keys()"
   ]
  },
  {
   "cell_type": "code",
   "execution_count": 18,
   "metadata": {},
   "outputs": [
    {
     "data": {
      "image/png": "[encoded data removed]",
      "text/plain": [
       "<Figure size 432x288 with 1 Axes>"
      ]
     },
     "metadata": {
      "needs_background": "light"
     },
     "output_type": "display_data"
    }
   ],
   "source": [
    "import matplotlib.pyplot as plt\n",
    "\n",
    "acc = history_dict['acc']\n",
    "val_acc = history_dict['val_acc']\n",
    "loss = history_dict['loss']\n",
    "val_loss = history_dict['val_loss']\n",
    "\n",
    "epochs = range(1, len(acc) + 1)\n",
    "\n",
    "# \"bo\" is for \"blue dot\"\n",
    "plt.plot(epochs, loss, 'bo', label='Training loss')\n",
    "# b is for \"solid blue line\"\n",
    "plt.plot(epochs, val_loss, 'b', label='Validation loss')\n",
    "plt.title('Training and validation loss')\n",
    "plt.xlabel('Epochs')\n",
    "plt.ylabel('Loss')\n",
    "plt.legend()\n",
    "\n",
    "plt.show()"
   ]
  },
  {
   "cell_type": "code",
   "execution_count": 19,
   "metadata": {},
   "outputs": [
    {
     "data": {
      "image/png": "[encoded data removed]",
      "text/plain": [
       "<Figure size 432x288 with 1 Axes>"
      ]
     },
     "metadata": {
      "needs_background": "light"
     },
     "output_type": "display_data"
    }
   ],
   "source": [
    "plt.clf()   # clear figure\n",
    "\n",
    "plt.plot(epochs, acc, 'bo', label='Training acc')\n",
    "plt.plot(epochs, val_acc, 'b', label='Validation acc')\n",
    "plt.title('Training and validation accuracy')\n",
    "plt.xlabel('Epochs')\n",
    "plt.ylabel('Accuracy')\n",
    "plt.legend()\n",
    "\n",
    "plt.show()"
   ]
  },
  {
   "cell_type": "code",
   "execution_count": 20,
   "metadata": {},
   "outputs": [
    {
     "name": "stdout",
     "output_type": "stream",
     "text": [
      "[[0.05707508 0.10275795 0.05940264 ... 0.06137131 0.05962342 0.06014067]\n",
      " [0.         1.         0.         ... 0.         0.         0.        ]\n",
      " [0.         1.         0.         ... 0.         0.         0.        ]\n",
      " ...\n",
      " [0.         1.         0.         ... 0.         0.         0.        ]\n",
      " [0.         1.         0.         ... 0.         0.         0.        ]\n",
      " [0.         1.         0.         ... 0.         0.         0.        ]]\n"
     ]
    }
   ],
   "source": [
    "test_predictions = model.predict(x_val)\n",
    "print(test_predictions)"
   ]
  },
  {
   "cell_type": "code",
   "execution_count": null,
   "metadata": {},
   "outputs": [],
   "source": []
  }
 ],
 "metadata": {
  "kernelspec": {
   "display_name": "Python 3",
   "language": "python",
   "name": "python3"
  },
  "language_info": {
   "codemirror_mode": {
    "name": "ipython",
    "version": 3
   },
   "file_extension": ".py",
   "mimetype": "text/x-python",
   "name": "python",
   "nbconvert_exporter": "python",
   "pygments_lexer": "ipython3",
   "version": "3.6.8"
  }
 },
 "nbformat": 4,
 "nbformat_minor": 2
}
