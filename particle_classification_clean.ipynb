{
 "cells": [
  {
   "cell_type": "code",
   "execution_count": 1,
   "metadata": {},
   "outputs": [
    {
     "name": "stdout",
     "output_type": "stream",
     "text": [
      "1.12.0\n"
     ]
    }
   ],
   "source": [
    "from __future__ import absolute_import, division, print_function, unicode_literals\n",
    "\n",
    "import tensorflow as tf\n",
    "from tensorflow import keras\n",
    "\n",
    "import numpy as np\n",
    "\n",
    "print(tf.__version__)"
   ]
  },
  {
   "cell_type": "markdown",
   "metadata": {},
   "source": [
    "Data read-in in read_part_class.ipynb, utilize results here:"
   ]
  },
  {
   "cell_type": "code",
   "execution_count": 2,
   "metadata": {},
   "outputs": [],
   "source": [
    "%run read_part_class.ipynb"
   ]
  },
  {
   "cell_type": "markdown",
   "metadata": {},
   "source": [
    "Check contents of arrays and lengths before padding and feeding to network:"
   ]
  },
  {
   "cell_type": "code",
   "execution_count": 3,
   "metadata": {},
   "outputs": [
    {
     "name": "stdout",
     "output_type": "stream",
     "text": [
      "[[23 23 23 ... 22 22 22] [23 23 23 ... 22 22 22] [23 23 23 ... -211 211 -211] ... [23 23 23 ... 22 22 22] [23 23 23 ... 211 211 -211] [23 23 23 ... 22 22 22]]\n",
      "[[23 23 23 ... -211 211 -211] [23 23 23 ... 22 2212 22] [23 23 23 ... -211 22 22] ... [23 23 23 ... 22 22 22] [23 23 23 ... 22 -211 130] [23 23 23 ... 211 22 22]]\n"
     ]
    }
   ],
   "source": [
    "print(gen_id_ee)\n",
    "print(gen_id_bb)"
   ]
  },
  {
   "cell_type": "code",
   "execution_count": 4,
   "metadata": {},
   "outputs": [
    {
     "name": "stdout",
     "output_type": "stream",
     "text": [
      "2574\n",
      "1318\n",
      "7130\n",
      "1580\n"
     ]
    }
   ],
   "source": [
    "print(len(gen_id_ee))\n",
    "sizes_ee = []\n",
    "for i in range(0,len(gen_id_ee)):\n",
    "    sizes_ee.append(len(gen_id_ee[i]))\n",
    "print(np.amax(sizes_ee))\n",
    "\n",
    "print(len(gen_id_bb))\n",
    "sizes_bb = []\n",
    "for i in range(0,len(gen_id_bb)):\n",
    "    sizes_bb.append(len(gen_id_bb[i]))\n",
    "print(np.amax(sizes_bb))"
   ]
  },
  {
   "cell_type": "markdown",
   "metadata": {},
   "source": [
    "Make class names / tags for jets:"
   ]
  },
  {
   "cell_type": "code",
   "execution_count": 5,
   "metadata": {},
   "outputs": [
    {
     "name": "stdout",
     "output_type": "stream",
     "text": [
      "['Z_ee_jet', 'Z_bb_jet']\n",
      "[0 0 0 ... 0 0 0]\n",
      "2574\n",
      "(2574,)\n",
      "2574\n",
      "(2574,)\n",
      "[1 1 1 ... 1 1 1]\n",
      "7130\n",
      "(7130,)\n",
      "7130\n",
      "(7130,)\n"
     ]
    }
   ],
   "source": [
    "class_names = ['Z_ee_jet', 'Z_bb_jet']\n",
    "print(class_names)\n",
    "Z_ee_jet = np.array([0]*len(gen_id_ee))\n",
    "Z_bb_jet = np.array([1]*len(gen_id_bb))\n",
    "\n",
    "print(Z_ee_jet)\n",
    "print(len(Z_ee_jet))\n",
    "print(Z_ee_jet.shape)\n",
    "print(len(gen_id_ee))\n",
    "print(gen_id_ee.shape)\n",
    "\n",
    "print(Z_bb_jet)\n",
    "print(len(Z_bb_jet))\n",
    "print(Z_bb_jet.shape)\n",
    "print(len(gen_id_bb))\n",
    "print(gen_id_bb.shape)"
   ]
  },
  {
   "cell_type": "markdown",
   "metadata": {},
   "source": [
    "(Quick visual check of ID distribution)"
   ]
  },
  {
   "cell_type": "code",
   "execution_count": 6,
   "metadata": {},
   "outputs": [],
   "source": [
    "# id_bins = np.linspace(-300,300,301)\n",
    "# plt.hist(x=gen_id_ee.flatten(), bins=id_bins, log=True, density=True)\n",
    "\n",
    "# plt.show()"
   ]
  },
  {
   "cell_type": "markdown",
   "metadata": {},
   "source": [
    "Start to build network:"
   ]
  },
  {
   "cell_type": "code",
   "execution_count": 7,
   "metadata": {},
   "outputs": [],
   "source": [
    "model = keras.Sequential([\n",
    "    keras.layers.Dense(256, activation=tf.nn.tanh),\n",
    "#     keras.layers.LeakyReLU(alpha=0.3),\n",
    "    keras.layers.Dense(16, activation=tf.nn.softmax)\n",
    "])"
   ]
  },
  {
   "cell_type": "markdown",
   "metadata": {},
   "source": [
    "Choice of loss='sparse_categorical_crossentropy' which expects integer labels"
   ]
  },
  {
   "cell_type": "code",
   "execution_count": 8,
   "metadata": {},
   "outputs": [],
   "source": [
    "model.compile(optimizer='adam',\n",
    "              loss='sparse_categorical_crossentropy',\n",
    "              metrics=['acc'])"
   ]
  },
  {
   "cell_type": "markdown",
   "metadata": {},
   "source": [
    "Need to pad input so that arrays are all same size (needed for later when combining):"
   ]
  },
  {
   "cell_type": "code",
   "execution_count": 9,
   "metadata": {},
   "outputs": [
    {
     "name": "stdout",
     "output_type": "stream",
     "text": [
      "1580\n",
      "[[23 23 23 ...  0  0  0]\n",
      " [23 23 23 ...  0  0  0]\n",
      " [23 23 23 ...  0  0  0]\n",
      " ...\n",
      " [23 23 23 ...  0  0  0]\n",
      " [23 23 23 ...  0  0  0]\n",
      " [23 23 23 ...  0  0  0]]\n"
     ]
    }
   ],
   "source": [
    "max_len = -1\n",
    "\n",
    "if (np.amax(sizes_ee)) >= (np.amax(sizes_bb)):\n",
    "    max_len = np.amax(sizes_ee)\n",
    "else:\n",
    "    max_len = np.amax(sizes_bb)\n",
    "\n",
    "print(max_len)\n",
    "\n",
    "gen_id_ee = keras.preprocessing.sequence.pad_sequences(gen_id_ee,\n",
    "                                                       value=0,\n",
    "                                                       padding='post',\n",
    "                                                       maxlen=max_len + 1)\n",
    "\n",
    "gen_id_bb = keras.preprocessing.sequence.pad_sequences(gen_id_bb,\n",
    "                                                       value=0,\n",
    "                                                       padding='post',\n",
    "                                                       maxlen=max_len + 1)\n",
    "\n",
    "print(gen_id_ee)"
   ]
  },
  {
   "cell_type": "markdown",
   "metadata": {},
   "source": [
    "Will split up for testing vs. validation:"
   ]
  },
  {
   "cell_type": "code",
   "execution_count": 10,
   "metadata": {},
   "outputs": [
    {
     "name": "stdout",
     "output_type": "stream",
     "text": [
      "2574\n",
      "1287.0\n",
      "7130\n",
      "3565.0\n"
     ]
    }
   ],
   "source": [
    "print(len(gen_id_ee))\n",
    "print(len(gen_id_ee)/2)\n",
    "\n",
    "print(len(gen_id_bb))\n",
    "print(len(gen_id_bb)/2)\n",
    "\n",
    "half_ee = int(len(gen_id_ee)/2)\n",
    "half_bb = int(len(gen_id_bb)/2)\n",
    "\n",
    "# data\n",
    "x_val_ee = gen_id_ee[:half_ee]\n",
    "partial_x_train_ee = gen_id_ee[half_ee:]\n",
    "\n",
    "x_val_bb = gen_id_bb[:half_bb]\n",
    "partial_x_train_bb = gen_id_bb[half_bb:]\n",
    "\n",
    "# labels of data\n",
    "y_val_ee = Z_ee_jet[:half_ee]\n",
    "partial_y_train_ee = Z_ee_jet[half_ee:]\n",
    "\n",
    "y_val_bb = Z_bb_jet[:half_bb]\n",
    "partial_y_train_bb = Z_bb_jet[half_bb:]"
   ]
  },
  {
   "cell_type": "markdown",
   "metadata": {},
   "source": [
    "Double check lengths of input data & labels (ee):"
   ]
  },
  {
   "cell_type": "code",
   "execution_count": 11,
   "metadata": {},
   "outputs": [
    {
     "name": "stdout",
     "output_type": "stream",
     "text": [
      "1287\n",
      "1287\n",
      "1581\n",
      "1581\n",
      "(1287, 1581)\n",
      "(1287, 1581)\n",
      "[0 0 0 ... 0 0 0]\n",
      "[0 0 0 ... 0 0 0]\n",
      "(1287,)\n",
      "(1287,)\n"
     ]
    }
   ],
   "source": [
    "print(len(x_val_ee))\n",
    "print(len(partial_x_train_ee))\n",
    "print(len(x_val_ee[0]))\n",
    "print(len(partial_x_train_ee[0]))\n",
    "print(x_val_ee.shape)\n",
    "print(partial_x_train_ee.shape)\n",
    "print(y_val_ee)\n",
    "print(partial_y_train_ee)\n",
    "print(y_val_ee.shape)\n",
    "print(partial_y_train_ee.shape)"
   ]
  },
  {
   "cell_type": "markdown",
   "metadata": {},
   "source": [
    "Double check lengths of input data & labels (bb):"
   ]
  },
  {
   "cell_type": "code",
   "execution_count": 12,
   "metadata": {},
   "outputs": [
    {
     "name": "stdout",
     "output_type": "stream",
     "text": [
      "3565\n",
      "3565\n",
      "1581\n",
      "1581\n",
      "(3565, 1581)\n",
      "(3565, 1581)\n",
      "[1 1 1 ... 1 1 1]\n",
      "[1 1 1 ... 1 1 1]\n",
      "(3565,)\n",
      "(3565,)\n"
     ]
    }
   ],
   "source": [
    "print(len(x_val_bb))\n",
    "print(len(partial_x_train_bb))\n",
    "print(len(x_val_bb[0]))\n",
    "print(len(partial_x_train_bb[0]))\n",
    "print(x_val_bb.shape)\n",
    "print(partial_x_train_bb.shape)\n",
    "print(y_val_bb)\n",
    "print(partial_y_train_bb)\n",
    "print(y_val_bb.shape)\n",
    "print(partial_y_train_bb.shape)"
   ]
  },
  {
   "cell_type": "markdown",
   "metadata": {},
   "source": [
    "Combine ee and bb for feading to network:"
   ]
  },
  {
   "cell_type": "code",
   "execution_count": 13,
   "metadata": {},
   "outputs": [
    {
     "name": "stdout",
     "output_type": "stream",
     "text": [
      "[0 0 0 ... 1 1 1]\n",
      "4852\n"
     ]
    }
   ],
   "source": [
    "x_val = np.vstack((x_val_ee, x_val_bb))\n",
    "y_val = np.concatenate((y_val_ee, y_val_bb), axis=None)\n",
    "\n",
    "partial_x_train = np.vstack((partial_x_train_ee, partial_x_train_bb))\n",
    "partial_y_train = np.concatenate((partial_y_train_ee, partial_y_train_bb))\n",
    "\n",
    "# import numpy as np\n",
    "\n",
    "# a = np.zeros((5, 5))\n",
    "# b = np.zeros((3, 5)) + 1\n",
    "\n",
    "print(partial_y_train)\n",
    "print(len(partial_y_train))\n",
    "\n",
    "# print(a)\n",
    "# print(b)\n",
    "\n",
    "# c = np.empty((a.size + b.size,))\n",
    "# 1581\n",
    "# c = np.vstack((a,b)).reshape((-1,),order='F')\n",
    "# c = np.vstack((a,b)).reshape(4,-1)\n",
    "\n",
    "# c = np.zeros(((len(a) + len(b), 5)))\n",
    "# print(c)\n",
    "# c[0::2] = 3\n",
    "# c[1::2] = 2\n",
    "\n",
    "# print(c)\n",
    "\n",
    "# for i in range(0,len(c),2):\n",
    "#     c[i] = a[i]\n",
    "# for i in range(1,len(b),2):\n",
    "#     c[i] = b[i]\n",
    "\n",
    "# print(c)"
   ]
  },
  {
   "cell_type": "markdown",
   "metadata": {},
   "source": [
    "Train model, monitor the model's loss and accuracy on samples from the validation set:"
   ]
  },
  {
   "cell_type": "code",
   "execution_count": 14,
   "metadata": {},
   "outputs": [
    {
     "name": "stdout",
     "output_type": "stream",
     "text": [
      "Train on 4852 samples, validate on 4852 samples\n",
      "Epoch 1/30\n",
      "4852/4852 [==============================] - 1s 153us/step - loss: 2.3523 - acc: 0.3157 - val_loss: 1.5803 - val_acc: 0.5447\n",
      "Epoch 2/30\n",
      "4852/4852 [==============================] - 0s 98us/step - loss: 1.1815 - acc: 0.6393 - val_loss: 1.0629 - val_acc: 0.6333\n",
      "Epoch 3/30\n",
      "4852/4852 [==============================] - 0s 101us/step - loss: 0.8357 - acc: 0.6775 - val_loss: 0.8787 - val_acc: 0.6498\n",
      "Epoch 4/30\n",
      "4852/4852 [==============================] - 0s 96us/step - loss: 0.7032 - acc: 0.7005 - val_loss: 0.8020 - val_acc: 0.6612\n",
      "Epoch 5/30\n",
      "4852/4852 [==============================] - 0s 97us/step - loss: 0.6279 - acc: 0.7251 - val_loss: 0.7555 - val_acc: 0.6529\n",
      "Epoch 6/30\n",
      "4852/4852 [==============================] - 1s 104us/step - loss: 0.5915 - acc: 0.7339 - val_loss: 0.7368 - val_acc: 0.6676\n",
      "Epoch 7/30\n",
      "4852/4852 [==============================] - 0s 94us/step - loss: 0.5624 - acc: 0.7397 - val_loss: 0.7189 - val_acc: 0.6744\n",
      "Epoch 8/30\n",
      "4852/4852 [==============================] - 0s 91us/step - loss: 0.5422 - acc: 0.7506 - val_loss: 0.7062 - val_acc: 0.6626\n",
      "Epoch 9/30\n",
      "4852/4852 [==============================] - 0s 89us/step - loss: 0.5247 - acc: 0.7564 - val_loss: 0.7019 - val_acc: 0.6715\n",
      "Epoch 10/30\n",
      "4852/4852 [==============================] - 0s 91us/step - loss: 0.5160 - acc: 0.7580 - val_loss: 0.7000 - val_acc: 0.6711\n",
      "Epoch 11/30\n",
      "4852/4852 [==============================] - 0s 90us/step - loss: 0.5005 - acc: 0.7702 - val_loss: 0.7018 - val_acc: 0.6638\n",
      "Epoch 12/30\n",
      "4852/4852 [==============================] - 0s 92us/step - loss: 0.4897 - acc: 0.7729 - val_loss: 0.7072 - val_acc: 0.6606\n",
      "Epoch 13/30\n",
      "4852/4852 [==============================] - 0s 93us/step - loss: 0.4819 - acc: 0.7791 - val_loss: 0.7086 - val_acc: 0.6674\n",
      "Epoch 14/30\n",
      "4852/4852 [==============================] - 0s 95us/step - loss: 0.4761 - acc: 0.7795 - val_loss: 0.7209 - val_acc: 0.6554\n",
      "Epoch 15/30\n",
      "4852/4852 [==============================] - 0s 92us/step - loss: 0.4656 - acc: 0.7859 - val_loss: 0.7202 - val_acc: 0.6595\n",
      "Epoch 16/30\n",
      "4852/4852 [==============================] - 0s 96us/step - loss: 0.4599 - acc: 0.7842 - val_loss: 0.7202 - val_acc: 0.6546\n",
      "Epoch 17/30\n",
      "4852/4852 [==============================] - 0s 94us/step - loss: 0.4520 - acc: 0.7908 - val_loss: 0.7323 - val_acc: 0.6500\n",
      "Epoch 18/30\n",
      "4852/4852 [==============================] - 0s 99us/step - loss: 0.4553 - acc: 0.7898 - val_loss: 0.7372 - val_acc: 0.6455\n",
      "Epoch 19/30\n",
      "4852/4852 [==============================] - 0s 92us/step - loss: 0.4475 - acc: 0.7972 - val_loss: 0.7473 - val_acc: 0.6467\n",
      "Epoch 20/30\n",
      "4852/4852 [==============================] - 0s 93us/step - loss: 0.4426 - acc: 0.7962 - val_loss: 0.7464 - val_acc: 0.6488\n",
      "Epoch 21/30\n",
      "4852/4852 [==============================] - 0s 90us/step - loss: 0.4396 - acc: 0.7962 - val_loss: 0.7484 - val_acc: 0.6492\n",
      "Epoch 22/30\n",
      "4852/4852 [==============================] - 1s 103us/step - loss: 0.4382 - acc: 0.7993 - val_loss: 0.7482 - val_acc: 0.6484\n",
      "Epoch 23/30\n",
      "4852/4852 [==============================] - 0s 91us/step - loss: 0.4330 - acc: 0.8048 - val_loss: 0.7492 - val_acc: 0.6587\n",
      "Epoch 24/30\n",
      "4852/4852 [==============================] - 0s 102us/step - loss: 0.4375 - acc: 0.8015 - val_loss: 0.7454 - val_acc: 0.6531\n",
      "Epoch 25/30\n",
      "4852/4852 [==============================] - 0s 93us/step - loss: 0.4359 - acc: 0.7972 - val_loss: 0.7494 - val_acc: 0.6546\n",
      "Epoch 26/30\n",
      "4852/4852 [==============================] - 1s 106us/step - loss: 0.4312 - acc: 0.8030 - val_loss: 0.7566 - val_acc: 0.6560\n",
      "Epoch 27/30\n",
      "4852/4852 [==============================] - 0s 101us/step - loss: 0.4286 - acc: 0.8044 - val_loss: 0.7540 - val_acc: 0.6404\n",
      "Epoch 28/30\n",
      "4852/4852 [==============================] - 1s 107us/step - loss: 0.4249 - acc: 0.8001 - val_loss: 0.7553 - val_acc: 0.6463\n",
      "Epoch 29/30\n",
      "4852/4852 [==============================] - 0s 101us/step - loss: 0.4187 - acc: 0.8089 - val_loss: 0.7545 - val_acc: 0.6498\n",
      "Epoch 30/30\n",
      "4852/4852 [==============================] - 0s 101us/step - loss: 0.4106 - acc: 0.8133 - val_loss: 0.7605 - val_acc: 0.6455\n"
     ]
    }
   ],
   "source": [
    "history = model.fit(partial_x_train,\n",
    "                    partial_y_train,\n",
    "                    epochs=30,\n",
    "                    batch_size=128,\n",
    "                    validation_data=(x_val, y_val),\n",
    "                    verbose=1)"
   ]
  },
  {
   "cell_type": "code",
   "execution_count": 15,
   "metadata": {},
   "outputs": [
    {
     "name": "stdout",
     "output_type": "stream",
     "text": [
      "_________________________________________________________________\n",
      "Layer (type)                 Output Shape              Param #   \n",
      "=================================================================\n",
      "dense (Dense)                multiple                  404992    \n",
      "_________________________________________________________________\n",
      "dense_1 (Dense)              multiple                  4112      \n",
      "=================================================================\n",
      "Total params: 409,104\n",
      "Trainable params: 409,104\n",
      "Non-trainable params: 0\n",
      "_________________________________________________________________\n"
     ]
    }
   ],
   "source": [
    "model.summary()"
   ]
  },
  {
   "cell_type": "markdown",
   "metadata": {},
   "source": [
    "Check loss and accuracy over epochs:"
   ]
  },
  {
   "cell_type": "code",
   "execution_count": 16,
   "metadata": {},
   "outputs": [
    {
     "data": {
      "text/plain": [
       "dict_keys(['val_loss', 'val_acc', 'loss', 'acc'])"
      ]
     },
     "execution_count": 16,
     "metadata": {},
     "output_type": "execute_result"
    }
   ],
   "source": [
    "history_dict = history.history\n",
    "history_dict.keys()"
   ]
  },
  {
   "cell_type": "code",
   "execution_count": 17,
   "metadata": {},
   "outputs": [
    {
     "data": {
      "image/png": "[encoded data removed]",
      "text/plain": [
       "<Figure size 432x288 with 1 Axes>"
      ]
     },
     "metadata": {
      "needs_background": "light"
     },
     "output_type": "display_data"
    }
   ],
   "source": [
    "import matplotlib.pyplot as plt\n",
    "\n",
    "acc = history_dict['acc']\n",
    "val_acc = history_dict['val_acc']\n",
    "loss = history_dict['loss']\n",
    "val_loss = history_dict['val_loss']\n",
    "\n",
    "epochs = range(1, len(acc) + 1)\n",
    "\n",
    "# \"bo\" is for \"blue dot\"\n",
    "plt.plot(epochs, loss, 'bo', label='Training loss')\n",
    "# b is for \"solid blue line\"\n",
    "plt.plot(epochs, val_loss, 'b', label='Validation loss')\n",
    "plt.title('Training and validation loss')\n",
    "plt.xlabel('Epochs')\n",
    "plt.ylabel('Loss')\n",
    "plt.legend()\n",
    "\n",
    "plt.show()"
   ]
  },
  {
   "cell_type": "code",
   "execution_count": 18,
   "metadata": {},
   "outputs": [
    {
     "data": {
      "image/png": "[encoded data removed]",
      "text/plain": [
       "<Figure size 432x288 with 1 Axes>"
      ]
     },
     "metadata": {
      "needs_background": "light"
     },
     "output_type": "display_data"
    }
   ],
   "source": [
    "plt.clf()   # clear figure\n",
    "\n",
    "plt.plot(epochs, acc, 'bo', label='Training acc')\n",
    "plt.plot(epochs, val_acc, 'b', label='Validation acc')\n",
    "plt.title('Training and validation accuracy')\n",
    "plt.xlabel('Epochs')\n",
    "plt.ylabel('Accuracy')\n",
    "plt.legend()\n",
    "\n",
    "plt.show()"
   ]
  },
  {
   "cell_type": "code",
   "execution_count": null,
   "metadata": {},
   "outputs": [],
   "source": []
  }
 ],
 "metadata": {
  "kernelspec": {
   "display_name": "Python 3",
   "language": "python",
   "name": "python3"
  },
  "language_info": {
   "codemirror_mode": {
    "name": "ipython",
    "version": 3
   },
   "file_extension": ".py",
   "mimetype": "text/x-python",
   "name": "python",
   "nbconvert_exporter": "python",
   "pygments_lexer": "ipython3",
   "version": "3.6.8"
  }
 },
 "nbformat": 4,
 "nbformat_minor": 2
}
