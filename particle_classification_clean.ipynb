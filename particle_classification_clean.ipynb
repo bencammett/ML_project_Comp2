{
 "cells": [
  {
   "cell_type": "code",
   "execution_count": 1,
   "metadata": {},
   "outputs": [
    {
     "name": "stdout",
     "output_type": "stream",
     "text": [
      "1.12.0\n"
     ]
    }
   ],
   "source": [
    "from __future__ import absolute_import, division, print_function, unicode_literals\n",
    "\n",
    "import tensorflow as tf\n",
    "from tensorflow import keras\n",
    "\n",
    "import numpy as np\n",
    "\n",
    "print(tf.__version__)"
   ]
  },
  {
   "cell_type": "markdown",
   "metadata": {},
   "source": [
    "Data read-in in read_part_class.ipynb, utilize results here:"
   ]
  },
  {
   "cell_type": "code",
   "execution_count": 2,
   "metadata": {},
   "outputs": [],
   "source": [
    "%run read_part_class.ipynb"
   ]
  },
  {
   "cell_type": "markdown",
   "metadata": {},
   "source": [
    "Check contents of arrays and lengths before padding and feeding to network:"
   ]
  },
  {
   "cell_type": "code",
   "execution_count": 3,
   "metadata": {},
   "outputs": [
    {
     "name": "stdout",
     "output_type": "stream",
     "text": [
      "[[23 23 23 ... 22 22 22] [23 23 23 ... 22 22 22] [23 23 23 ... -211 211 -211] ... [23 23 23 ... 22 22 22] [23 23 23 ... 211 211 -211] [23 23 23 ... 22 22 22]]\n",
      "[[23 23 23 ... -211 211 -211] [23 23 23 ... 22 2212 22] [23 23 23 ... -211 22 22] ... [23 23 23 ... 22 22 22] [23 23 23 ... 22 -211 130] [23 23 23 ... 211 22 22]]\n"
     ]
    }
   ],
   "source": [
    "print(gen_id_ee)\n",
    "print(gen_id_bb)"
   ]
  },
  {
   "cell_type": "code",
   "execution_count": 4,
   "metadata": {},
   "outputs": [
    {
     "name": "stdout",
     "output_type": "stream",
     "text": [
      "2574\n",
      "1318\n",
      "7130\n",
      "1580\n"
     ]
    }
   ],
   "source": [
    "print(len(gen_id_ee))\n",
    "sizes_ee = []\n",
    "for i in range(0,len(gen_id_ee)):\n",
    "    sizes_ee.append(len(gen_id_ee[i]))\n",
    "print(np.amax(sizes_ee))\n",
    "\n",
    "print(len(gen_id_bb))\n",
    "sizes_bb = []\n",
    "for i in range(0,len(gen_id_bb)):\n",
    "    sizes_bb.append(len(gen_id_bb[i]))\n",
    "print(np.amax(sizes_bb))"
   ]
  },
  {
   "cell_type": "markdown",
   "metadata": {},
   "source": [
    "Make class names / tags for jets:"
   ]
  },
  {
   "cell_type": "code",
   "execution_count": 5,
   "metadata": {},
   "outputs": [
    {
     "name": "stdout",
     "output_type": "stream",
     "text": [
      "['Z_ee_jet', 'Z_bb_jet']\n",
      "[0 0 0 ... 0 0 0]\n",
      "2574\n",
      "(2574,)\n",
      "2574\n",
      "(2574,)\n",
      "[1 1 1 ... 1 1 1]\n",
      "7130\n",
      "(7130,)\n",
      "7130\n",
      "(7130,)\n"
     ]
    }
   ],
   "source": [
    "class_names = ['Z_ee_jet', 'Z_bb_jet']\n",
    "print(class_names)\n",
    "Z_ee_jet = np.array([0]*len(gen_id_ee))\n",
    "Z_bb_jet = np.array([1]*len(gen_id_bb))\n",
    "\n",
    "print(Z_ee_jet)\n",
    "print(len(Z_ee_jet))\n",
    "print(Z_ee_jet.shape)\n",
    "print(len(gen_id_ee))\n",
    "print(gen_id_ee.shape)\n",
    "\n",
    "print(Z_bb_jet)\n",
    "print(len(Z_bb_jet))\n",
    "print(Z_bb_jet.shape)\n",
    "print(len(gen_id_bb))\n",
    "print(gen_id_bb.shape)"
   ]
  },
  {
   "cell_type": "markdown",
   "metadata": {},
   "source": [
    "(Quick visual check of ID distribution)"
   ]
  },
  {
   "cell_type": "code",
   "execution_count": 6,
   "metadata": {},
   "outputs": [],
   "source": [
    "# id_bins = np.linspace(-300,300,301)\n",
    "# plt.hist(x=gen_id_ee.flatten(), bins=id_bins, log=True, density=True)\n",
    "\n",
    "# plt.show()"
   ]
  },
  {
   "cell_type": "markdown",
   "metadata": {},
   "source": [
    "Start to build network:\n",
    "\n",
    "**Directions: Comment- or uncomment- out various combinations of layers (can vary nodes as well) for various final accuracy**"
   ]
  },
  {
   "cell_type": "code",
   "execution_count": 7,
   "metadata": {},
   "outputs": [],
   "source": [
    "model = keras.Sequential([\n",
    "#     keras.layers.Dense(256, activation=tf.nn.tanh),\n",
    "#     keras.layers.LeakyReLU(alpha=0.3),\n",
    "    keras.layers.Dense(256, activation=tf.nn.relu),\n",
    "    keras.layers.Dense(16, activation=tf.nn.softmax)\n",
    "])"
   ]
  },
  {
   "cell_type": "markdown",
   "metadata": {},
   "source": [
    "Choice of loss='sparse_categorical_crossentropy' which expects integer labels"
   ]
  },
  {
   "cell_type": "code",
   "execution_count": 8,
   "metadata": {},
   "outputs": [],
   "source": [
    "model.compile(optimizer='adam',\n",
    "              loss='sparse_categorical_crossentropy',\n",
    "              metrics=['acc'])"
   ]
  },
  {
   "cell_type": "markdown",
   "metadata": {},
   "source": [
    "Need to pad input so that arrays are all same size (needed for later when combining):"
   ]
  },
  {
   "cell_type": "code",
   "execution_count": 9,
   "metadata": {},
   "outputs": [
    {
     "name": "stdout",
     "output_type": "stream",
     "text": [
      "1580\n",
      "[[23 23 23 ...  0  0  0]\n",
      " [23 23 23 ...  0  0  0]\n",
      " [23 23 23 ...  0  0  0]\n",
      " ...\n",
      " [23 23 23 ...  0  0  0]\n",
      " [23 23 23 ...  0  0  0]\n",
      " [23 23 23 ...  0  0  0]]\n"
     ]
    }
   ],
   "source": [
    "max_len = -1\n",
    "\n",
    "if (np.amax(sizes_ee)) >= (np.amax(sizes_bb)):\n",
    "    max_len = np.amax(sizes_ee)\n",
    "else:\n",
    "    max_len = np.amax(sizes_bb)\n",
    "\n",
    "print(max_len)\n",
    "\n",
    "gen_id_ee = keras.preprocessing.sequence.pad_sequences(gen_id_ee,\n",
    "                                                       value=0,\n",
    "                                                       padding='post',\n",
    "                                                       maxlen=max_len + 1)\n",
    "\n",
    "gen_id_bb = keras.preprocessing.sequence.pad_sequences(gen_id_bb,\n",
    "                                                       value=0,\n",
    "                                                       padding='post',\n",
    "                                                       maxlen=max_len + 1)\n",
    "\n",
    "print(gen_id_ee)"
   ]
  },
  {
   "cell_type": "markdown",
   "metadata": {},
   "source": [
    "Will split up for testing vs. validation:"
   ]
  },
  {
   "cell_type": "code",
   "execution_count": 10,
   "metadata": {},
   "outputs": [
    {
     "name": "stdout",
     "output_type": "stream",
     "text": [
      "2574\n",
      "1287.0\n",
      "7130\n",
      "3565.0\n"
     ]
    }
   ],
   "source": [
    "print(len(gen_id_ee))\n",
    "print(len(gen_id_ee)/2)\n",
    "\n",
    "print(len(gen_id_bb))\n",
    "print(len(gen_id_bb)/2)\n",
    "\n",
    "half_ee = int(len(gen_id_ee)/2)\n",
    "half_bb = int(len(gen_id_bb)/2)\n",
    "\n",
    "# data\n",
    "x_val_ee = gen_id_ee[:half_ee]\n",
    "partial_x_train_ee = gen_id_ee[half_ee:]\n",
    "\n",
    "x_val_bb = gen_id_bb[:half_bb]\n",
    "partial_x_train_bb = gen_id_bb[half_bb:]\n",
    "\n",
    "# labels of data\n",
    "y_val_ee = Z_ee_jet[:half_ee]\n",
    "partial_y_train_ee = Z_ee_jet[half_ee:]\n",
    "\n",
    "y_val_bb = Z_bb_jet[:half_bb]\n",
    "partial_y_train_bb = Z_bb_jet[half_bb:]"
   ]
  },
  {
   "cell_type": "markdown",
   "metadata": {},
   "source": [
    "Double check lengths of input data & labels (ee):"
   ]
  },
  {
   "cell_type": "code",
   "execution_count": 11,
   "metadata": {},
   "outputs": [
    {
     "name": "stdout",
     "output_type": "stream",
     "text": [
      "1287\n",
      "1287\n",
      "1581\n",
      "1581\n",
      "(1287, 1581)\n",
      "(1287, 1581)\n",
      "[0 0 0 ... 0 0 0]\n",
      "[0 0 0 ... 0 0 0]\n",
      "(1287,)\n",
      "(1287,)\n"
     ]
    }
   ],
   "source": [
    "print(len(x_val_ee))\n",
    "print(len(partial_x_train_ee))\n",
    "print(len(x_val_ee[0]))\n",
    "print(len(partial_x_train_ee[0]))\n",
    "print(x_val_ee.shape)\n",
    "print(partial_x_train_ee.shape)\n",
    "print(y_val_ee)\n",
    "print(partial_y_train_ee)\n",
    "print(y_val_ee.shape)\n",
    "print(partial_y_train_ee.shape)"
   ]
  },
  {
   "cell_type": "markdown",
   "metadata": {},
   "source": [
    "Double check lengths of input data & labels (bb):"
   ]
  },
  {
   "cell_type": "code",
   "execution_count": 12,
   "metadata": {},
   "outputs": [
    {
     "name": "stdout",
     "output_type": "stream",
     "text": [
      "3565\n",
      "3565\n",
      "1581\n",
      "1581\n",
      "(3565, 1581)\n",
      "(3565, 1581)\n",
      "[1 1 1 ... 1 1 1]\n",
      "[1 1 1 ... 1 1 1]\n",
      "(3565,)\n",
      "(3565,)\n"
     ]
    }
   ],
   "source": [
    "print(len(x_val_bb))\n",
    "print(len(partial_x_train_bb))\n",
    "print(len(x_val_bb[0]))\n",
    "print(len(partial_x_train_bb[0]))\n",
    "print(x_val_bb.shape)\n",
    "print(partial_x_train_bb.shape)\n",
    "print(y_val_bb)\n",
    "print(partial_y_train_bb)\n",
    "print(y_val_bb.shape)\n",
    "print(partial_y_train_bb.shape)"
   ]
  },
  {
   "cell_type": "markdown",
   "metadata": {},
   "source": [
    "Combine ee and bb for feading to network:"
   ]
  },
  {
   "cell_type": "code",
   "execution_count": 13,
   "metadata": {},
   "outputs": [
    {
     "name": "stdout",
     "output_type": "stream",
     "text": [
      "[0 0 0 ... 1 1 1]\n",
      "4852\n"
     ]
    }
   ],
   "source": [
    "x_val = np.vstack((x_val_ee, x_val_bb))\n",
    "y_val = np.concatenate((y_val_ee, y_val_bb), axis=None)\n",
    "\n",
    "partial_x_train = np.vstack((partial_x_train_ee, partial_x_train_bb))\n",
    "partial_y_train = np.concatenate((partial_y_train_ee, partial_y_train_bb))\n",
    "\n",
    "# import numpy as np\n",
    "\n",
    "# a = np.zeros((5, 5))\n",
    "# b = np.zeros((3, 5)) + 1\n",
    "\n",
    "print(partial_y_train)\n",
    "print(len(partial_y_train))\n",
    "\n",
    "# print(a)\n",
    "# print(b)\n",
    "\n",
    "# c = np.empty((a.size + b.size,))\n",
    "# 1581\n",
    "# c = np.vstack((a,b)).reshape((-1,),order='F')\n",
    "# c = np.vstack((a,b)).reshape(4,-1)\n",
    "\n",
    "# c = np.zeros(((len(a) + len(b), 5)))\n",
    "# print(c)\n",
    "# c[0::2] = 3\n",
    "# c[1::2] = 2\n",
    "\n",
    "# print(c)\n",
    "\n",
    "# for i in range(0,len(c),2):\n",
    "#     c[i] = a[i]\n",
    "# for i in range(1,len(b),2):\n",
    "#     c[i] = b[i]\n",
    "\n",
    "# print(c)"
   ]
  },
  {
   "cell_type": "markdown",
   "metadata": {},
   "source": [
    "Train model, monitor the model's loss and accuracy on samples from the validation set:"
   ]
  },
  {
   "cell_type": "code",
   "execution_count": 14,
   "metadata": {},
   "outputs": [
    {
     "name": "stdout",
     "output_type": "stream",
     "text": [
      "Train on 4852 samples, validate on 4852 samples\n",
      "Epoch 1/30\n",
      "4852/4852 [==============================] - 1s 162us/step - loss: 11.1619 - acc: 0.3038 - val_loss: 8.6586 - val_acc: 0.4592\n",
      "Epoch 2/30\n",
      "4852/4852 [==============================] - 0s 98us/step - loss: 6.1765 - acc: 0.6138 - val_loss: 5.0849 - val_acc: 0.6828\n",
      "Epoch 3/30\n",
      "4852/4852 [==============================] - 0s 97us/step - loss: 4.7146 - acc: 0.7061 - val_loss: 4.5763 - val_acc: 0.7154\n",
      "Epoch 4/30\n",
      "4852/4852 [==============================] - 0s 92us/step - loss: 4.4434 - acc: 0.7236 - val_loss: 4.3555 - val_acc: 0.7296\n",
      "Epoch 5/30\n",
      "4852/4852 [==============================] - 0s 100us/step - loss: 4.2972 - acc: 0.7331 - val_loss: 4.3310 - val_acc: 0.7312\n",
      "Epoch 6/30\n",
      "4852/4852 [==============================] - 0s 102us/step - loss: 4.2825 - acc: 0.7339 - val_loss: 4.3398 - val_acc: 0.7306\n",
      "Epoch 7/30\n",
      "4852/4852 [==============================] - 1s 105us/step - loss: 4.2687 - acc: 0.7352 - val_loss: 4.3416 - val_acc: 0.7306\n",
      "Epoch 8/30\n",
      "4852/4852 [==============================] - 0s 96us/step - loss: 4.2685 - acc: 0.7350 - val_loss: 4.3285 - val_acc: 0.7315\n",
      "Epoch 9/30\n",
      "4852/4852 [==============================] - 0s 100us/step - loss: 4.2587 - acc: 0.7358 - val_loss: 4.3199 - val_acc: 0.7319\n",
      "Epoch 10/30\n",
      "4852/4852 [==============================] - 0s 97us/step - loss: 4.2588 - acc: 0.7358 - val_loss: 4.3225 - val_acc: 0.7317\n",
      "Epoch 11/30\n",
      "4852/4852 [==============================] - 1s 104us/step - loss: 4.2587 - acc: 0.7358 - val_loss: 4.3232 - val_acc: 0.7317\n",
      "Epoch 12/30\n",
      "4852/4852 [==============================] - 0s 96us/step - loss: 4.2587 - acc: 0.7358 - val_loss: 4.3232 - val_acc: 0.7317\n",
      "Epoch 13/30\n",
      "4852/4852 [==============================] - 1s 112us/step - loss: 4.2587 - acc: 0.7358 - val_loss: 4.3232 - val_acc: 0.7317\n",
      "Epoch 14/30\n",
      "4852/4852 [==============================] - 0s 100us/step - loss: 4.2587 - acc: 0.7358 - val_loss: 4.3232 - val_acc: 0.7317\n",
      "Epoch 15/30\n",
      "4852/4852 [==============================] - 0s 102us/step - loss: 4.2587 - acc: 0.7358 - val_loss: 4.3232 - val_acc: 0.7317\n",
      "Epoch 16/30\n",
      "4852/4852 [==============================] - 1s 107us/step - loss: 4.2587 - acc: 0.7358 - val_loss: 4.3232 - val_acc: 0.7317\n",
      "Epoch 17/30\n",
      "4852/4852 [==============================] - 1s 113us/step - loss: 4.2587 - acc: 0.7358 - val_loss: 4.3232 - val_acc: 0.7317\n",
      "Epoch 18/30\n",
      "4852/4852 [==============================] - 1s 110us/step - loss: 4.2587 - acc: 0.7358 - val_loss: 4.3232 - val_acc: 0.7317\n",
      "Epoch 19/30\n",
      "4852/4852 [==============================] - 0s 97us/step - loss: 4.2587 - acc: 0.7358 - val_loss: 4.3232 - val_acc: 0.7317\n",
      "Epoch 20/30\n",
      "4852/4852 [==============================] - 0s 97us/step - loss: 4.2587 - acc: 0.7358 - val_loss: 4.3232 - val_acc: 0.7317\n",
      "Epoch 21/30\n",
      "4852/4852 [==============================] - 0s 98us/step - loss: 4.2587 - acc: 0.7358 - val_loss: 4.3232 - val_acc: 0.7317\n",
      "Epoch 22/30\n",
      "4852/4852 [==============================] - 1s 106us/step - loss: 4.2587 - acc: 0.7358 - val_loss: 4.3232 - val_acc: 0.7317\n",
      "Epoch 23/30\n",
      "4852/4852 [==============================] - 0s 99us/step - loss: 4.2587 - acc: 0.7358 - val_loss: 4.3232 - val_acc: 0.7317\n",
      "Epoch 24/30\n",
      "4852/4852 [==============================] - 0s 96us/step - loss: 4.2587 - acc: 0.7358 - val_loss: 4.3232 - val_acc: 0.7317\n",
      "Epoch 25/30\n",
      "4852/4852 [==============================] - 0s 97us/step - loss: 4.2587 - acc: 0.7358 - val_loss: 4.3232 - val_acc: 0.7317\n",
      "Epoch 26/30\n",
      "4852/4852 [==============================] - 0s 98us/step - loss: 4.2587 - acc: 0.7358 - val_loss: 4.3232 - val_acc: 0.7317\n",
      "Epoch 27/30\n",
      "4852/4852 [==============================] - 1s 107us/step - loss: 4.2587 - acc: 0.7358 - val_loss: 4.3232 - val_acc: 0.7317\n",
      "Epoch 28/30\n",
      "4852/4852 [==============================] - 0s 96us/step - loss: 4.2587 - acc: 0.7358 - val_loss: 4.3232 - val_acc: 0.7317\n",
      "Epoch 29/30\n",
      "4852/4852 [==============================] - 0s 98us/step - loss: 4.2587 - acc: 0.7358 - val_loss: 4.3232 - val_acc: 0.7317\n",
      "Epoch 30/30\n",
      "4852/4852 [==============================] - 0s 99us/step - loss: 4.2587 - acc: 0.7358 - val_loss: 4.3232 - val_acc: 0.7317\n"
     ]
    }
   ],
   "source": [
    "history = model.fit(partial_x_train,\n",
    "                    partial_y_train,\n",
    "                    epochs=30,\n",
    "                    batch_size=128,\n",
    "                    validation_data=(x_val, y_val),\n",
    "                    verbose=1)"
   ]
  },
  {
   "cell_type": "code",
   "execution_count": 15,
   "metadata": {},
   "outputs": [
    {
     "name": "stdout",
     "output_type": "stream",
     "text": [
      "_________________________________________________________________\n",
      "Layer (type)                 Output Shape              Param #   \n",
      "=================================================================\n",
      "dense (Dense)                multiple                  404992    \n",
      "_________________________________________________________________\n",
      "dense_1 (Dense)              multiple                  4112      \n",
      "=================================================================\n",
      "Total params: 409,104\n",
      "Trainable params: 409,104\n",
      "Non-trainable params: 0\n",
      "_________________________________________________________________\n"
     ]
    }
   ],
   "source": [
    "model.summary()"
   ]
  },
  {
   "cell_type": "markdown",
   "metadata": {},
   "source": [
    "Check loss and accuracy over epochs:"
   ]
  },
  {
   "cell_type": "code",
   "execution_count": 16,
   "metadata": {},
   "outputs": [
    {
     "data": {
      "text/plain": [
       "dict_keys(['val_loss', 'val_acc', 'loss', 'acc'])"
      ]
     },
     "execution_count": 16,
     "metadata": {},
     "output_type": "execute_result"
    }
   ],
   "source": [
    "history_dict = history.history\n",
    "history_dict.keys()"
   ]
  },
  {
   "cell_type": "code",
   "execution_count": 17,
   "metadata": {},
   "outputs": [
    {
     "data": {
      "image/png": "[encoded data removed]",
      "text/plain": [
       "<Figure size 432x288 with 1 Axes>"
      ]
     },
     "metadata": {
      "needs_background": "light"
     },
     "output_type": "display_data"
    }
   ],
   "source": [
    "import matplotlib.pyplot as plt\n",
    "\n",
    "acc = history_dict['acc']\n",
    "val_acc = history_dict['val_acc']\n",
    "loss = history_dict['loss']\n",
    "val_loss = history_dict['val_loss']\n",
    "\n",
    "epochs = range(1, len(acc) + 1)\n",
    "\n",
    "# \"bo\" is for \"blue dot\"\n",
    "plt.plot(epochs, loss, 'bo', label='Training loss')\n",
    "# b is for \"solid blue line\"\n",
    "plt.plot(epochs, val_loss, 'b', label='Validation loss')\n",
    "plt.title('Training and validation loss')\n",
    "plt.xlabel('Epochs')\n",
    "plt.ylabel('Loss')\n",
    "plt.legend()\n",
    "\n",
    "plt.show()"
   ]
  },
  {
   "cell_type": "code",
   "execution_count": 18,
   "metadata": {},
   "outputs": [
    {
     "data": {
      "image/png": "[encoded data removed]",
      "text/plain": [
       "<Figure size 432x288 with 1 Axes>"
      ]
     },
     "metadata": {
      "needs_background": "light"
     },
     "output_type": "display_data"
    }
   ],
   "source": [
    "plt.clf()   # clear figure\n",
    "\n",
    "plt.plot(epochs, acc, 'bo', label='Training acc')\n",
    "plt.plot(epochs, val_acc, 'b', label='Validation acc')\n",
    "plt.title('Training and validation accuracy')\n",
    "plt.xlabel('Epochs')\n",
    "plt.ylabel('Accuracy')\n",
    "plt.legend()\n",
    "\n",
    "plt.show()"
   ]
  },
  {
   "cell_type": "code",
   "execution_count": null,
   "metadata": {},
   "outputs": [],
   "source": []
  }
 ],
 "metadata": {
  "kernelspec": {
   "display_name": "Python 3",
   "language": "python",
   "name": "python3"
  },
  "language_info": {
   "codemirror_mode": {
    "name": "ipython",
    "version": 3
   },
   "file_extension": ".py",
   "mimetype": "text/x-python",
   "name": "python",
   "nbconvert_exporter": "python",
   "pygments_lexer": "ipython3",
   "version": "3.6.8"
  }
 },
 "nbformat": 4,
 "nbformat_minor": 2
}
