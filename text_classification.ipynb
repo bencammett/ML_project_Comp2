{
  "nbformat": 4,
  "nbformat_minor": 0,
  "metadata": {
    "colab": {
      "name": "text_classification.ipynb",
      "version": "0.3.2",
      "provenance": [],
      "collapsed_sections": [],
      "include_colab_link": true
    },
    "kernelspec": {
      "name": "python3",
      "display_name": "Python 3"
    }
  },
  "cells": [
    {
      "cell_type": "markdown",
      "metadata": {
        "id": "view-in-github",
        "colab_type": "text"
      },
      "source": [
        "<a href=\"https://colab.research.google.com/github/bencammett/ML_project_Comp2/blob/master/text_classification.ipynb\" target=\"_parent\"><img src=\"https://colab.research.google.com/assets/colab-badge.svg\" alt=\"Open In Colab\"/></a>"
      ]
    },
    {
      "metadata": {
        "id": "QZLAXYptPpZ8",
        "colab_type": "text"
      },
      "cell_type": "markdown",
      "source": [
        "\n",
        "code from: https://github.com/tensorflow/docs/blob/master/site/en/tutorials/keras/basic_text_classification.ipynb\n",
        "\n",
        "running in google collab"
      ]
    },
    {
      "metadata": {
        "id": "INf6YUvpQGWf",
        "colab_type": "code",
        "colab": {
          "base_uri": "https://localhost:8080/",
          "height": 35
        },
        "outputId": "3227d11a-ee51-418a-c81f-506cebb8f137"
      },
      "cell_type": "code",
      "source": [
        "from __future__ import absolute_import, division, print_function, unicode_literals\n",
        "\n",
        "import tensorflow as tf\n",
        "from tensorflow import keras\n",
        "\n",
        "import numpy as np\n",
        "\n",
        "print(tf.__version__)"
      ],
      "execution_count": 1,
      "outputs": [
        {
          "output_type": "stream",
          "text": [
            "1.13.1\n"
          ],
          "name": "stdout"
        }
      ]
    },
    {
      "metadata": {
        "id": "EsU6UsDVQZ6u",
        "colab_type": "text"
      },
      "cell_type": "markdown",
      "source": [
        "IMDB dataset comes packaged with TensorFlow. It has already been preprocessed such that the reviews (sequences of words) have been converted to sequences of integers, where each integer represents a specific word in a dictionary"
      ]
    },
    {
      "metadata": {
        "id": "JDDVgDXuQK0W",
        "colab_type": "code",
        "colab": {}
      },
      "cell_type": "code",
      "source": [
        "imdb = keras.datasets.imdb\n",
        "\n",
        "(train_data, train_labels), (test_data, test_labels) = imdb.load_data(num_words=10000)"
      ],
      "execution_count": 0,
      "outputs": []
    },
    {
      "metadata": {
        "id": "6t0xQxIEQgZv",
        "colab_type": "text"
      },
      "cell_type": "markdown",
      "source": [
        "(The argument num_words=10000 keeps the top 10,000 most frequently occurring words in the training data. The rare words are discarded to keep the size of the data manageable.)"
      ]
    },
    {
      "metadata": {
        "id": "aR86AZqOQq2w",
        "colab_type": "text"
      },
      "cell_type": "markdown",
      "source": [
        "The dataset comes preprocessed: each example is an array of integers representing the words of the movie review. Each label is an integer value of either 0 or 1, where 0 is a negative review, and 1 is a positive review."
      ]
    },
    {
      "metadata": {
        "id": "L18ekLdSQQvc",
        "colab_type": "code",
        "colab": {
          "base_uri": "https://localhost:8080/",
          "height": 35
        },
        "outputId": "621eac7f-7d8a-41ed-a816-fce1f5a29fa6"
      },
      "cell_type": "code",
      "source": [
        "print(\"Training entries: {}, labels: {}\".format(len(train_data), len(train_labels)))"
      ],
      "execution_count": 3,
      "outputs": [
        {
          "output_type": "stream",
          "text": [
            "Training entries: 25000, labels: 25000\n"
          ],
          "name": "stdout"
        }
      ]
    },
    {
      "metadata": {
        "id": "erXkiGUvQ1VA",
        "colab_type": "text"
      },
      "cell_type": "markdown",
      "source": [
        "The text of reviews have been converted to integers, where each integer represents a specific word in a dictionary. Here's what the first review looks like:"
      ]
    },
    {
      "metadata": {
        "id": "n_G-oZs0Qt-s",
        "colab_type": "code",
        "colab": {
          "base_uri": "https://localhost:8080/",
          "height": 55
        },
        "outputId": "7fc400f6-1a8e-489d-a7d7-f7ee05ab2673"
      },
      "cell_type": "code",
      "source": [
        "print(train_data[0])"
      ],
      "execution_count": 4,
      "outputs": [
        {
          "output_type": "stream",
          "text": [
            "[1, 14, 22, 16, 43, 530, 973, 1622, 1385, 65, 458, 4468, 66, 3941, 4, 173, 36, 256, 5, 25, 100, 43, 838, 112, 50, 670, 2, 9, 35, 480, 284, 5, 150, 4, 172, 112, 167, 2, 336, 385, 39, 4, 172, 4536, 1111, 17, 546, 38, 13, 447, 4, 192, 50, 16, 6, 147, 2025, 19, 14, 22, 4, 1920, 4613, 469, 4, 22, 71, 87, 12, 16, 43, 530, 38, 76, 15, 13, 1247, 4, 22, 17, 515, 17, 12, 16, 626, 18, 2, 5, 62, 386, 12, 8, 316, 8, 106, 5, 4, 2223, 5244, 16, 480, 66, 3785, 33, 4, 130, 12, 16, 38, 619, 5, 25, 124, 51, 36, 135, 48, 25, 1415, 33, 6, 22, 12, 215, 28, 77, 52, 5, 14, 407, 16, 82, 2, 8, 4, 107, 117, 5952, 15, 256, 4, 2, 7, 3766, 5, 723, 36, 71, 43, 530, 476, 26, 400, 317, 46, 7, 4, 2, 1029, 13, 104, 88, 4, 381, 15, 297, 98, 32, 2071, 56, 26, 141, 6, 194, 7486, 18, 4, 226, 22, 21, 134, 476, 26, 480, 5, 144, 30, 5535, 18, 51, 36, 28, 224, 92, 25, 104, 4, 226, 65, 16, 38, 1334, 88, 12, 16, 283, 5, 16, 4472, 113, 103, 32, 15, 16, 5345, 19, 178, 32]\n"
          ],
          "name": "stdout"
        }
      ]
    },
    {
      "metadata": {
        "id": "T8DEpYTMQ8mq",
        "colab_type": "text"
      },
      "cell_type": "markdown",
      "source": [
        "Movie reviews may be different lengths. The below code shows the number of words in the first and second reviews. \n",
        "\n",
        "(Since inputs to a neural network must be the same length, we'll need to resolve this later.)"
      ]
    },
    {
      "metadata": {
        "id": "swOv3v04QxKY",
        "colab_type": "code",
        "colab": {
          "base_uri": "https://localhost:8080/",
          "height": 35
        },
        "outputId": "2139f250-21c9-402e-ff2f-e7e2517cecc0"
      },
      "cell_type": "code",
      "source": [
        "len(train_data[0]), len(train_data[1])"
      ],
      "execution_count": 5,
      "outputs": [
        {
          "output_type": "execute_result",
          "data": {
            "text/plain": [
              "(218, 189)"
            ]
          },
          "metadata": {
            "tags": []
          },
          "execution_count": 5
        }
      ]
    },
    {
      "metadata": {
        "id": "06N88cZURGX3",
        "colab_type": "text"
      },
      "cell_type": "markdown",
      "source": [
        "It may be useful to know how to convert integers back to text. \n",
        "\n",
        "(Here, we'll create a helper function to query a dictionary object that contains the integer to string mapping)"
      ]
    },
    {
      "metadata": {
        "id": "A83hoWH4RAaa",
        "colab_type": "code",
        "colab": {}
      },
      "cell_type": "code",
      "source": [
        "# A dictionary mapping words to an integer index\n",
        "word_index = imdb.get_word_index()\n",
        "\n",
        "# The first indices are reserved\n",
        "word_index = {k:(v+3) for k,v in word_index.items()}\n",
        "word_index[\"<PAD>\"] = 0\n",
        "word_index[\"<START>\"] = 1\n",
        "word_index[\"<UNK>\"] = 2  # unknown\n",
        "word_index[\"<UNUSED>\"] = 3\n",
        "\n",
        "reverse_word_index = dict([(value, key) for (key, value) in word_index.items()])\n",
        "\n",
        "def decode_review(text):\n",
        "    return ' '.join([reverse_word_index.get(i, '?') for i in text])"
      ],
      "execution_count": 0,
      "outputs": []
    },
    {
      "metadata": {
        "id": "7ldPGPgmRSiI",
        "colab_type": "text"
      },
      "cell_type": "markdown",
      "source": [
        "Now take a look at the first review..."
      ]
    },
    {
      "metadata": {
        "id": "bm1oI7bFRN9Z",
        "colab_type": "code",
        "colab": {
          "base_uri": "https://localhost:8080/",
          "height": 55
        },
        "outputId": "f08c2f8c-2996-48ac-dd8d-e5df0b3f80ef"
      },
      "cell_type": "code",
      "source": [
        "decode_review(train_data[0])"
      ],
      "execution_count": 7,
      "outputs": [
        {
          "output_type": "execute_result",
          "data": {
            "text/plain": [
              "\"<START> this film was just brilliant casting location scenery story direction everyone's really suited the part they played and you could just imagine being there robert <UNK> is an amazing actor and now the same being director <UNK> father came from the same scottish island as myself so i loved the fact there was a real connection with this film the witty remarks throughout the film were great it was just brilliant so much that i bought the film as soon as it was released for <UNK> and would recommend it to everyone to watch and the fly fishing was amazing really cried at the end it was so sad and you know what they say if you cry at a film it must have been good and this definitely was also <UNK> to the two little boy's that played the <UNK> of norman and paul they were just brilliant children are often left out of the <UNK> list i think because the stars that play them all grown up are such a big profile for the whole film but these children are amazing and should be praised for what they have done don't you think the whole story was so lovely because it was true and was someone's life after all that was shared with us all\""
            ]
          },
          "metadata": {
            "tags": []
          },
          "execution_count": 7
        }
      ]
    },
    {
      "metadata": {
        "id": "rHYBFYw-Sn75",
        "colab_type": "text"
      },
      "cell_type": "markdown",
      "source": [
        "Prepare data...\n",
        "\n",
        "The reviews—the arrays of integers—must be converted to tensors before fed into the neural network. This conversion can be done a couple of ways:\n",
        "*  Convert the arrays into vectors of 0s and 1s indicating word occurrence, similar to a one-hot encoding. For example, the sequence [3, 5] would become a 10,000-dimensional vector that is all zeros except for indices 3 and 5, which are ones. Then, make this the first layer in our network—a Dense layer—that can handle floating point vector data. This approach is memory intensive, though, requiring a **num_words** * **num_reviews** size matrix.\n",
        "* Alternatively, we can pad the arrays so they all have the same length, then create an integer tensor of shape **max_length** * **num_reviews**. We can use an embedding layer capable of handling this shape as the first layer in our network.\n",
        "\n",
        "In this tutorial, we will use the second approach.\n",
        "\n",
        "Since the movie reviews must be the same length, we will use the pad_sequences function to standardize the lengths:"
      ]
    },
    {
      "metadata": {
        "id": "X_EK4SAVRREy",
        "colab_type": "code",
        "colab": {}
      },
      "cell_type": "code",
      "source": [
        "train_data = keras.preprocessing.sequence.pad_sequences(train_data,\n",
        "                                                        value=word_index[\"<PAD>\"],\n",
        "                                                        padding='post',\n",
        "                                                        maxlen=256)\n",
        "\n",
        "test_data = keras.preprocessing.sequence.pad_sequences(test_data,\n",
        "                                                       value=word_index[\"<PAD>\"],\n",
        "                                                       padding='post',\n",
        "                                                       maxlen=256)"
      ],
      "execution_count": 0,
      "outputs": []
    },
    {
      "metadata": {
        "id": "TkoThCyTT3K7",
        "colab_type": "text"
      },
      "cell_type": "markdown",
      "source": [
        "Let's look at the length of the examples now..."
      ]
    },
    {
      "metadata": {
        "id": "2RV2fwTfTsHe",
        "colab_type": "code",
        "colab": {
          "base_uri": "https://localhost:8080/",
          "height": 35
        },
        "outputId": "9a6b5af8-653c-48d9-e700-c087f68bec27"
      },
      "cell_type": "code",
      "source": [
        "len(train_data[0]), len(train_data[1])"
      ],
      "execution_count": 11,
      "outputs": [
        {
          "output_type": "execute_result",
          "data": {
            "text/plain": [
              "(256, 256)"
            ]
          },
          "metadata": {
            "tags": []
          },
          "execution_count": 11
        }
      ]
    },
    {
      "metadata": {
        "id": "jXduhzl7UJCT",
        "colab_type": "text"
      },
      "cell_type": "markdown",
      "source": [
        "...and inspect the (now padded) first review:"
      ]
    },
    {
      "metadata": {
        "id": "wCw14MyyT_VC",
        "colab_type": "code",
        "colab": {
          "base_uri": "https://localhost:8080/",
          "height": 356
        },
        "outputId": "d35fe9b8-005c-4804-a2c8-9c4a0bf92e4a"
      },
      "cell_type": "code",
      "source": [
        "print(train_data[0])"
      ],
      "execution_count": 12,
      "outputs": [
        {
          "output_type": "stream",
          "text": [
            "[   1   14   22   16   43  530  973 1622 1385   65  458 4468   66 3941\n",
            "    4  173   36  256    5   25  100   43  838  112   50  670    2    9\n",
            "   35  480  284    5  150    4  172  112  167    2  336  385   39    4\n",
            "  172 4536 1111   17  546   38   13  447    4  192   50   16    6  147\n",
            " 2025   19   14   22    4 1920 4613  469    4   22   71   87   12   16\n",
            "   43  530   38   76   15   13 1247    4   22   17  515   17   12   16\n",
            "  626   18    2    5   62  386   12    8  316    8  106    5    4 2223\n",
            " 5244   16  480   66 3785   33    4  130   12   16   38  619    5   25\n",
            "  124   51   36  135   48   25 1415   33    6   22   12  215   28   77\n",
            "   52    5   14  407   16   82    2    8    4  107  117 5952   15  256\n",
            "    4    2    7 3766    5  723   36   71   43  530  476   26  400  317\n",
            "   46    7    4    2 1029   13  104   88    4  381   15  297   98   32\n",
            " 2071   56   26  141    6  194 7486   18    4  226   22   21  134  476\n",
            "   26  480    5  144   30 5535   18   51   36   28  224   92   25  104\n",
            "    4  226   65   16   38 1334   88   12   16  283    5   16 4472  113\n",
            "  103   32   15   16 5345   19  178   32    0    0    0    0    0    0\n",
            "    0    0    0    0    0    0    0    0    0    0    0    0    0    0\n",
            "    0    0    0    0    0    0    0    0    0    0    0    0    0    0\n",
            "    0    0    0    0]\n"
          ],
          "name": "stdout"
        }
      ]
    },
    {
      "metadata": {
        "id": "LvMnmqE6UQtI",
        "colab_type": "text"
      },
      "cell_type": "markdown",
      "source": [
        "Build Model:\n",
        "\n",
        "The neural network is created by stacking layers—this requires two main architectural decisions:\n",
        "\n",
        "* How many layers to use in the model?\n",
        "* How many hidden units to use for each layer?\n",
        "\n",
        "In this example, the input data consists of an array of word-indices. The labels to predict are either 0 or 1. Let's build a model for this problem:"
      ]
    },
    {
      "metadata": {
        "id": "CNmDGyGCUC8G",
        "colab_type": "code",
        "colab": {
          "base_uri": "https://localhost:8080/",
          "height": 359
        },
        "outputId": "567468aa-221a-42cd-f7f1-6935bc1ef972"
      },
      "cell_type": "code",
      "source": [
        "# input shape is the vocabulary count used for the movie reviews (10,000 words)\n",
        "vocab_size = 10000\n",
        "\n",
        "model = keras.Sequential()\n",
        "model.add(keras.layers.Embedding(vocab_size, 16))\n",
        "model.add(keras.layers.GlobalAveragePooling1D())\n",
        "model.add(keras.layers.Dense(16, activation=tf.nn.relu))\n",
        "model.add(keras.layers.Dense(1, activation=tf.nn.sigmoid))\n",
        "\n",
        "model.summary()"
      ],
      "execution_count": 13,
      "outputs": [
        {
          "output_type": "stream",
          "text": [
            "WARNING:tensorflow:From /usr/local/lib/python3.6/dist-packages/tensorflow/python/ops/resource_variable_ops.py:435: colocate_with (from tensorflow.python.framework.ops) is deprecated and will be removed in a future version.\n",
            "Instructions for updating:\n",
            "Colocations handled automatically by placer.\n",
            "_________________________________________________________________\n",
            "Layer (type)                 Output Shape              Param #   \n",
            "=================================================================\n",
            "embedding (Embedding)        (None, None, 16)          160000    \n",
            "_________________________________________________________________\n",
            "global_average_pooling1d (Gl (None, 16)                0         \n",
            "_________________________________________________________________\n",
            "dense (Dense)                (None, 16)                272       \n",
            "_________________________________________________________________\n",
            "dense_1 (Dense)              (None, 1)                 17        \n",
            "=================================================================\n",
            "Total params: 160,289\n",
            "Trainable params: 160,289\n",
            "Non-trainable params: 0\n",
            "_________________________________________________________________\n"
          ],
          "name": "stdout"
        }
      ]
    },
    {
      "metadata": {
        "id": "hufPtC9IUico",
        "colab_type": "text"
      },
      "cell_type": "markdown",
      "source": [
        "The layers are stacked sequentially to build the classifier:\n",
        "\n",
        "*    The first layer is an Embedding layer. This layer takes the integer-encoded vocabulary and looks up the embedding vector for each word-index. These vectors are learned as the model trains. The vectors add a dimension to the output array. The resulting dimensions are: (batch, sequence, embedding).\n",
        "*    Next, a GlobalAveragePooling1D layer returns a fixed-length output vector for each example by averaging over the sequence dimension. This allows the model to handle input of variable length, in the simplest way possible.\n",
        "*    This fixed-length output vector is piped through a fully-connected (Dense) layer with 16 hidden units.\n",
        "*    The last layer is densely connected with a single output node. Using the sigmoid activation function, this value is a float between 0 and 1, representing a probability, or confidence level.\n",
        "\n",
        "Hidden units:\n",
        "\n",
        "* The above model has two intermediate or \"hidden\" layers, between the input and output. The number of outputs (units, nodes, or neurons) is the dimension of the representational space for the layer. In other words, the amount of freedom the network is allowed when learning an internal representation.\n",
        "\n",
        "* If a model has more hidden units (a higher-dimensional representation space), and/or more layers, then the network can learn more complex representations. However, it makes the network more computationally expensive and may lead to learning unwanted patterns—patterns that improve performance on training data but not on the test data. This is called overfitting, and we'll explore it later.\n",
        "\n",
        "Loss function and optimizer\n",
        "\n",
        "* A model needs a loss function and an optimizer for training. Since this is a binary classification problem and the model outputs a probability (a single-unit layer with a sigmoid activation), we'll use the binary_crossentropy loss function.\n",
        "* This isn't the only choice for a loss function, you could, for instance, choose mean_squared_error. But, generally, binary_crossentropy is better for dealing with probabilities—it measures the \"distance\" between probability distributions, or in our case, between the ground-truth distribution and the predictions.\n",
        "* Later, when we are exploring regression problems (say, to predict the price of a house), we will see how to use another loss function called mean squared error.\n",
        "\n",
        "Now, configure the model to use an optimizer and a loss function:"
      ]
    },
    {
      "metadata": {
        "id": "9r_aW5-jUcYn",
        "colab_type": "code",
        "colab": {}
      },
      "cell_type": "code",
      "source": [
        "model.compile(optimizer='adam',\n",
        "              loss='binary_crossentropy',\n",
        "              metrics=['acc'])"
      ],
      "execution_count": 0,
      "outputs": []
    },
    {
      "metadata": {
        "id": "TVRMc5svVPMy",
        "colab_type": "text"
      },
      "cell_type": "markdown",
      "source": [
        "Create validation set to test accuracy"
      ]
    },
    {
      "metadata": {
        "id": "5bfEFzYHU9Ld",
        "colab_type": "code",
        "colab": {}
      },
      "cell_type": "code",
      "source": [
        "x_val = train_data[:10000]\n",
        "partial_x_train = train_data[10000:]\n",
        "\n",
        "y_val = train_labels[:10000]\n",
        "partial_y_train = train_labels[10000:]"
      ],
      "execution_count": 0,
      "outputs": []
    },
    {
      "metadata": {
        "id": "AF2ylzkVVU6I",
        "colab_type": "text"
      },
      "cell_type": "markdown",
      "source": [
        "Train model\n",
        "\n",
        "(40 epochs in mini-batches of 512 samples. This is 40 iterations over all samples in the x_train and y_train tensors. While training, monitor the model's loss and accuracy on the 10,000 samples from the validation set)"
      ]
    },
    {
      "metadata": {
        "id": "jy8Wy90rVS9P",
        "colab_type": "code",
        "colab": {
          "base_uri": "https://localhost:8080/",
          "height": 1538
        },
        "outputId": "99effb35-5bd3-4428-eb6b-883ad36987ad"
      },
      "cell_type": "code",
      "source": [
        "history = model.fit(partial_x_train,\n",
        "                    partial_y_train,\n",
        "                    epochs=40,\n",
        "                    batch_size=512,\n",
        "                    validation_data=(x_val, y_val),\n",
        "                    verbose=1)"
      ],
      "execution_count": 16,
      "outputs": [
        {
          "output_type": "stream",
          "text": [
            "Train on 15000 samples, validate on 10000 samples\n",
            "WARNING:tensorflow:From /usr/local/lib/python3.6/dist-packages/tensorflow/python/ops/math_ops.py:3066: to_int32 (from tensorflow.python.ops.math_ops) is deprecated and will be removed in a future version.\n",
            "Instructions for updating:\n",
            "Use tf.cast instead.\n",
            "Epoch 1/40\n",
            "15000/15000 [==============================] - 1s 64us/sample - loss: 0.6923 - acc: 0.6265 - val_loss: 0.6911 - val_acc: 0.6883\n",
            "Epoch 2/40\n",
            "15000/15000 [==============================] - 1s 53us/sample - loss: 0.6889 - acc: 0.7164 - val_loss: 0.6863 - val_acc: 0.7358\n",
            "Epoch 3/40\n",
            "15000/15000 [==============================] - 1s 51us/sample - loss: 0.6798 - acc: 0.7547 - val_loss: 0.6735 - val_acc: 0.7494\n",
            "Epoch 4/40\n",
            "15000/15000 [==============================] - 1s 50us/sample - loss: 0.6618 - acc: 0.7600 - val_loss: 0.6520 - val_acc: 0.7530\n",
            "Epoch 5/40\n",
            "15000/15000 [==============================] - 1s 51us/sample - loss: 0.6328 - acc: 0.7866 - val_loss: 0.6201 - val_acc: 0.7769\n",
            "Epoch 6/40\n",
            "15000/15000 [==============================] - 1s 52us/sample - loss: 0.5928 - acc: 0.8069 - val_loss: 0.5800 - val_acc: 0.7972\n",
            "Epoch 7/40\n",
            "15000/15000 [==============================] - 1s 51us/sample - loss: 0.5453 - acc: 0.8229 - val_loss: 0.5341 - val_acc: 0.8134\n",
            "Epoch 8/40\n",
            "15000/15000 [==============================] - 1s 52us/sample - loss: 0.4949 - acc: 0.8418 - val_loss: 0.4894 - val_acc: 0.8295\n",
            "Epoch 9/40\n",
            "15000/15000 [==============================] - 1s 52us/sample - loss: 0.4468 - acc: 0.8561 - val_loss: 0.4485 - val_acc: 0.8399\n",
            "Epoch 10/40\n",
            "15000/15000 [==============================] - 1s 51us/sample - loss: 0.4040 - acc: 0.8693 - val_loss: 0.4149 - val_acc: 0.8484\n",
            "Epoch 11/40\n",
            "15000/15000 [==============================] - 1s 50us/sample - loss: 0.3682 - acc: 0.8788 - val_loss: 0.3875 - val_acc: 0.8575\n",
            "Epoch 12/40\n",
            "15000/15000 [==============================] - 1s 52us/sample - loss: 0.3384 - acc: 0.8873 - val_loss: 0.3667 - val_acc: 0.8606\n",
            "Epoch 13/40\n",
            "15000/15000 [==============================] - 1s 51us/sample - loss: 0.3145 - acc: 0.8937 - val_loss: 0.3488 - val_acc: 0.8675\n",
            "Epoch 14/40\n",
            "15000/15000 [==============================] - 1s 52us/sample - loss: 0.2933 - acc: 0.8989 - val_loss: 0.3360 - val_acc: 0.8712\n",
            "Epoch 15/40\n",
            "15000/15000 [==============================] - 1s 48us/sample - loss: 0.2757 - acc: 0.9041 - val_loss: 0.3255 - val_acc: 0.8734\n",
            "Epoch 16/40\n",
            "15000/15000 [==============================] - 1s 45us/sample - loss: 0.2600 - acc: 0.9100 - val_loss: 0.3168 - val_acc: 0.8747\n",
            "Epoch 17/40\n",
            "15000/15000 [==============================] - 1s 46us/sample - loss: 0.2456 - acc: 0.9137 - val_loss: 0.3096 - val_acc: 0.8765\n",
            "Epoch 18/40\n",
            "15000/15000 [==============================] - 1s 47us/sample - loss: 0.2329 - acc: 0.9185 - val_loss: 0.3035 - val_acc: 0.8798\n",
            "Epoch 19/40\n",
            "15000/15000 [==============================] - 1s 45us/sample - loss: 0.2215 - acc: 0.9218 - val_loss: 0.2984 - val_acc: 0.8817\n",
            "Epoch 20/40\n",
            "15000/15000 [==============================] - 1s 46us/sample - loss: 0.2112 - acc: 0.9257 - val_loss: 0.2951 - val_acc: 0.8807\n",
            "Epoch 21/40\n",
            "15000/15000 [==============================] - 1s 46us/sample - loss: 0.2008 - acc: 0.9311 - val_loss: 0.2922 - val_acc: 0.8815\n",
            "Epoch 22/40\n",
            "15000/15000 [==============================] - 1s 46us/sample - loss: 0.1921 - acc: 0.9339 - val_loss: 0.2898 - val_acc: 0.8836\n",
            "Epoch 23/40\n",
            "15000/15000 [==============================] - 1s 48us/sample - loss: 0.1833 - acc: 0.9385 - val_loss: 0.2888 - val_acc: 0.8834\n",
            "Epoch 24/40\n",
            "15000/15000 [==============================] - 1s 51us/sample - loss: 0.1756 - acc: 0.9423 - val_loss: 0.2871 - val_acc: 0.8844\n",
            "Epoch 25/40\n",
            "15000/15000 [==============================] - 1s 50us/sample - loss: 0.1678 - acc: 0.9457 - val_loss: 0.2859 - val_acc: 0.8838\n",
            "Epoch 26/40\n",
            "15000/15000 [==============================] - 1s 49us/sample - loss: 0.1609 - acc: 0.9485 - val_loss: 0.2866 - val_acc: 0.8830\n",
            "Epoch 27/40\n",
            "15000/15000 [==============================] - 1s 51us/sample - loss: 0.1543 - acc: 0.9502 - val_loss: 0.2863 - val_acc: 0.8838\n",
            "Epoch 28/40\n",
            "15000/15000 [==============================] - 1s 47us/sample - loss: 0.1481 - acc: 0.9537 - val_loss: 0.2867 - val_acc: 0.8846\n",
            "Epoch 29/40\n",
            "15000/15000 [==============================] - 1s 47us/sample - loss: 0.1426 - acc: 0.9566 - val_loss: 0.2889 - val_acc: 0.8830\n",
            "Epoch 30/40\n",
            "15000/15000 [==============================] - 1s 50us/sample - loss: 0.1368 - acc: 0.9583 - val_loss: 0.2882 - val_acc: 0.8852\n",
            "Epoch 31/40\n",
            "15000/15000 [==============================] - 1s 47us/sample - loss: 0.1310 - acc: 0.9609 - val_loss: 0.2896 - val_acc: 0.8862\n",
            "Epoch 32/40\n",
            "15000/15000 [==============================] - 1s 48us/sample - loss: 0.1258 - acc: 0.9641 - val_loss: 0.2913 - val_acc: 0.8861\n",
            "Epoch 33/40\n",
            "15000/15000 [==============================] - 1s 54us/sample - loss: 0.1207 - acc: 0.9654 - val_loss: 0.2938 - val_acc: 0.8841\n",
            "Epoch 34/40\n",
            "15000/15000 [==============================] - 1s 52us/sample - loss: 0.1162 - acc: 0.9665 - val_loss: 0.2958 - val_acc: 0.8851\n",
            "Epoch 35/40\n",
            "15000/15000 [==============================] - 1s 52us/sample - loss: 0.1121 - acc: 0.9675 - val_loss: 0.2989 - val_acc: 0.8848\n",
            "Epoch 36/40\n",
            "15000/15000 [==============================] - 1s 52us/sample - loss: 0.1076 - acc: 0.9703 - val_loss: 0.3009 - val_acc: 0.8837\n",
            "Epoch 37/40\n",
            "15000/15000 [==============================] - 1s 52us/sample - loss: 0.1033 - acc: 0.9711 - val_loss: 0.3036 - val_acc: 0.8835\n",
            "Epoch 38/40\n",
            "15000/15000 [==============================] - 1s 50us/sample - loss: 0.0993 - acc: 0.9725 - val_loss: 0.3075 - val_acc: 0.8815\n",
            "Epoch 39/40\n",
            "15000/15000 [==============================] - 1s 50us/sample - loss: 0.0961 - acc: 0.9735 - val_loss: 0.3110 - val_acc: 0.8818\n",
            "Epoch 40/40\n",
            "15000/15000 [==============================] - 1s 48us/sample - loss: 0.0920 - acc: 0.9761 - val_loss: 0.3136 - val_acc: 0.8819\n"
          ],
          "name": "stdout"
        }
      ]
    },
    {
      "metadata": {
        "id": "E-F4-BSNVraN",
        "colab_type": "text"
      },
      "cell_type": "markdown",
      "source": [
        "Evaluate the model:\n",
        "\n",
        "Look at loss (a number which represents our error, lower values are better), and accuracy.\n",
        "\n",
        "This fairly naive approach achieves an accuracy of about 87%. With more advanced approaches, the model should get closer to 95%."
      ]
    },
    {
      "metadata": {
        "id": "78N-ksIiVceL",
        "colab_type": "code",
        "colab": {
          "base_uri": "https://localhost:8080/",
          "height": 53
        },
        "outputId": "691dd134-7909-40e6-c07e-9c0615f848a3"
      },
      "cell_type": "code",
      "source": [
        "results = model.evaluate(test_data, test_labels)\n",
        "\n",
        "print(results)"
      ],
      "execution_count": 17,
      "outputs": [
        {
          "output_type": "stream",
          "text": [
            "25000/25000 [==============================] - 1s 33us/sample - loss: 0.3343 - acc: 0.8722\n",
            "[0.33431662587165834, 0.87216]\n"
          ],
          "name": "stdout"
        }
      ]
    },
    {
      "metadata": {
        "id": "Es31wM6gV76C",
        "colab_type": "text"
      },
      "cell_type": "markdown",
      "source": [
        "Create a graph of accuracy and loss over time\n",
        "\n",
        "model.fit() returns a History object that contains a dictionary with everything that happened during training:"
      ]
    },
    {
      "metadata": {
        "id": "wzNEJb3CVzJw",
        "colab_type": "code",
        "colab": {
          "base_uri": "https://localhost:8080/",
          "height": 35
        },
        "outputId": "275d7c01-56af-4939-8fb2-bc1b36bdbb2a"
      },
      "cell_type": "code",
      "source": [
        "history_dict = history.history\n",
        "history_dict.keys()"
      ],
      "execution_count": 18,
      "outputs": [
        {
          "output_type": "execute_result",
          "data": {
            "text/plain": [
              "dict_keys(['loss', 'acc', 'val_loss', 'val_acc'])"
            ]
          },
          "metadata": {
            "tags": []
          },
          "execution_count": 18
        }
      ]
    },
    {
      "metadata": {
        "id": "Y7hYgslTWCS2",
        "colab_type": "text"
      },
      "cell_type": "markdown",
      "source": [
        "There are four entries: one for each monitored metric during training and validation. We can use these to plot the training and validation loss for comparison, as well as the training and validation accuracy.\n",
        "\n",
        "Validation loss:"
      ]
    },
    {
      "metadata": {
        "id": "W6H-IFvYV-3n",
        "colab_type": "code",
        "colab": {
          "base_uri": "https://localhost:8080/",
          "height": 295
        },
        "outputId": "aedb82e8-7dd2-45d5-9178-ea36b9b884ce"
      },
      "cell_type": "code",
      "source": [
        "import matplotlib.pyplot as plt\n",
        "\n",
        "acc = history_dict['acc']\n",
        "val_acc = history_dict['val_acc']\n",
        "loss = history_dict['loss']\n",
        "val_loss = history_dict['val_loss']\n",
        "\n",
        "epochs = range(1, len(acc) + 1)\n",
        "\n",
        "# \"bo\" is for \"blue dot\"\n",
        "plt.plot(epochs, loss, 'bo', label='Training loss')\n",
        "# b is for \"solid blue line\"\n",
        "plt.plot(epochs, val_loss, 'b', label='Validation loss')\n",
        "plt.title('Training and validation loss')\n",
        "plt.xlabel('Epochs')\n",
        "plt.ylabel('Loss')\n",
        "plt.legend()\n",
        "\n",
        "plt.show()"
      ],
      "execution_count": 19,
      "outputs": [
        {
          "output_type": "display_data",
          "data": {
            "image/png": "[encoded data removed]",
            "text/plain": [
              "<Figure size 432x288 with 1 Axes>"
            ]
          },
          "metadata": {
            "tags": []
          }
        }
      ]
    },
    {
      "metadata": {
        "id": "u1dBd4DdWH84",
        "colab_type": "text"
      },
      "cell_type": "markdown",
      "source": [
        "As well as validation accuracy:"
      ]
    },
    {
      "metadata": {
        "id": "3dZfavR3WE_S",
        "colab_type": "code",
        "colab": {
          "base_uri": "https://localhost:8080/",
          "height": 295
        },
        "outputId": "ae794857-5e4a-450a-a290-1a30cc9ef7cc"
      },
      "cell_type": "code",
      "source": [
        "plt.clf()   # clear figure\n",
        "\n",
        "plt.plot(epochs, acc, 'bo', label='Training acc')\n",
        "plt.plot(epochs, val_acc, 'b', label='Validation acc')\n",
        "plt.title('Training and validation accuracy')\n",
        "plt.xlabel('Epochs')\n",
        "plt.ylabel('Accuracy')\n",
        "plt.legend()\n",
        "\n",
        "plt.show()"
      ],
      "execution_count": 20,
      "outputs": [
        {
          "output_type": "display_data",
          "data": {
            "image/png": "[encoded data removed]",
            "text/plain": [
              "<Figure size 432x288 with 1 Axes>"
            ]
          },
          "metadata": {
            "tags": []
          }
        }
      ]
    },
    {
      "metadata": {
        "id": "-GsoK8EmWYt2",
        "colab_type": "text"
      },
      "cell_type": "markdown",
      "source": [
        "In this plot, the dots represent the training loss and accuracy, and the solid lines are the validation loss and accuracy.\n",
        "\n",
        "Notice the training loss decreases with each epoch and the training accuracy increases with each epoch. This is expected when using a gradient descent optimization—it should minimize the desired quantity on every iteration.\n",
        "\n",
        "This isn't the case for the validation loss and accuracy—they seem to peak after about twenty epochs. This is an example of overfitting: the model performs better on the training data than it does on data it has never seen before. After this point, the model over-optimizes and learns representations specific to the training data that do not generalize to test data.\n",
        "\n",
        "For this particular case, we could prevent overfitting by simply stopping the training after twenty or so epochs. Later, you'll see how to do this automatically with a callback.\n"
      ]
    },
    {
      "metadata": {
        "id": "LZEEe81iWJTb",
        "colab_type": "code",
        "colab": {}
      },
      "cell_type": "code",
      "source": [
        ""
      ],
      "execution_count": 0,
      "outputs": []
    }
  ]
}