{
  "nbformat": 4,
  "nbformat_minor": 0,
  "metadata": {
    "colab": {
      "name": "particle_jet_classification.ipynb",
      "version": "0.3.2",
      "provenance": [],
      "collapsed_sections": [],
      "include_colab_link": true
    },
    "kernelspec": {
      "name": "python3",
      "display_name": "Python 3"
    }
  },
  "cells": [
    {
      "cell_type": "markdown",
      "metadata": {
        "id": "view-in-github",
        "colab_type": "text"
      },
      "source": [
        "<a href=\"https://colab.research.google.com/github/bencammett/ML_project_Comp2/blob/master/particle_jet_classification.ipynb\" target=\"_parent\"><img src=\"https://colab.research.google.com/assets/colab-badge.svg\" alt=\"Open In Colab\"/></a>"
      ]
    },
    {
      "metadata": {
        "id": "uVfSWGCJf49J",
        "colab_type": "text"
      },
      "cell_type": "markdown",
      "source": [
        "\n",
        "based on code (imdb movie reviews) from: https://github.com/tensorflow/docs/blob/master/site/en/tutorials/keras/basic_text_classification.ipynb\n",
        "\n",
        "running in google collab"
      ]
    },
    {
      "metadata": {
        "id": "0OtegxR9f03W",
        "colab_type": "code",
        "colab": {
          "base_uri": "https://localhost:8080/",
          "height": 35
        },
        "outputId": "76a32063-f684-46e7-9ef1-ae4392d0b91c"
      },
      "cell_type": "code",
      "source": [
        "from __future__ import absolute_import, division, print_function, unicode_literals\n",
        "\n",
        "import tensorflow as tf\n",
        "from tensorflow import keras\n",
        "\n",
        "import numpy as np\n",
        "\n",
        "print(tf.__version__)"
      ],
      "execution_count": 2,
      "outputs": [
        {
          "output_type": "stream",
          "text": [
            "1.13.1\n"
          ],
          "name": "stdout"
        }
      ]
    },
    {
      "metadata": {
        "id": "MK_SOEb0gNE6",
        "colab_type": "text"
      },
      "cell_type": "markdown",
      "source": [
        "Load dataset \n",
        "\n",
        "(**Need to be preprocessed? **)\n",
        "\n",
        "Integers will correlate to name of a particle\n",
        "\n",
        "Pythia to generate events (**how many?**) for training -- **data for testing as well?**\n",
        "\n",
        "Example from imdb -- (shouldn't need to place maximum, we want all particles, not just \"most frequent\" particles):"
      ]
    },
    {
      "metadata": {
        "id": "PmoAztAJf38x",
        "colab_type": "code",
        "colab": {}
      },
      "cell_type": "code",
      "source": [
        "# imdb = keras.datasets.imdb\n",
        "\n",
        "# (train_data, train_labels), (test_data, test_labels) = imdb.load_data(num_words=10000)"
      ],
      "execution_count": 0,
      "outputs": []
    },
    {
      "metadata": {
        "id": "aqFC4TPDhpnk",
        "colab_type": "text"
      },
      "cell_type": "markdown",
      "source": [
        "(**Optimal number of epochs to avoid overfitting?**)\n",
        "\n",
        "(**Padding -- jets will not have same number of particles**)"
      ]
    },
    {
      "metadata": {
        "id": "aQWlJbWVgwjm",
        "colab_type": "code",
        "colab": {}
      },
      "cell_type": "code",
      "source": [
        ""
      ],
      "execution_count": 0,
      "outputs": []
    }
  ]
}