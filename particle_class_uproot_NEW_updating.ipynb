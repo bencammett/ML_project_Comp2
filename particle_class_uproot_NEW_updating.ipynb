{
 "cells": [
  {
   "cell_type": "code",
   "execution_count": 1,
   "metadata": {},
   "outputs": [
    {
     "name": "stdout",
     "output_type": "stream",
     "text": [
      "1.12.0\n"
     ]
    }
   ],
   "source": [
    "from __future__ import absolute_import, division, print_function, unicode_literals\n",
    "\n",
    "import tensorflow as tf\n",
    "from tensorflow import keras\n",
    "\n",
    "import numpy as np\n",
    "\n",
    "print(tf.__version__)"
   ]
  },
  {
   "cell_type": "code",
   "execution_count": 2,
   "metadata": {},
   "outputs": [],
   "source": [
    "%run read_part_class.ipynb"
   ]
  },
  {
   "cell_type": "code",
   "execution_count": 3,
   "metadata": {},
   "outputs": [
    {
     "name": "stdout",
     "output_type": "stream",
     "text": [
      "[-22 -44 -44 -44 -62 -62 -62 -62 -62 -62 -62 -62 -62 -62 -62 -62 -62 -62\n",
      " -62 -63 -63 -63 -63  51  51  51  52  83  83  83  83  83  84  84  84  84\n",
      "  84  84  91  91  91  91  91  91  91  91  91  91  91  91  91  91  91  91\n",
      "  91  91  91  91  91  91  91  91  91  91  91  91  91  91  91  91  91  91\n",
      "  91  91  91  91  91  91  91  91  91  91  91  91  91  91  91  91  91  91\n",
      "  91  91  91  91  91  91  91  91  91  91  91  91  91  91  91  91  91  91\n",
      "  91  91  91  91  91  91  91  91]\n",
      "[   23    23    23    23    23    21    21    21    21    21    21    21\n",
      "    21    21    21    21    21    21    21  2103  2101     2     2    22\n",
      "   -11    22    11   321  2112 -2212  -211   211  -321   211   321   211\n",
      "  -211   321  2212   211  -211   211  -211   211   321  -211   130  -321\n",
      "   211   211  -211  -211  -211   211  -211   211   130   130    22    22\n",
      "    22    22   211  -211    22    22    22    22    22    22    22    22\n",
      "    22    22    22    22    22    22  2112  -211   211  -211    22    22\n",
      "    22    22    22    22    22    22    22    22    22    22   211  -211\n",
      "    22    22    22    22    22    22    22    22   211  -211   211  -211\n",
      "   211  -211    22    22    22    22    22    22]\n",
      "-62\n",
      "[-22 -44 -44 -44 -62 -62 -62 -62 -62 -62 -62 -62 -62 -62 -62 -62 -62 -62\n",
      " -62 -63 -63 -63 -63  51  51  51  52  83  83  83  83  83  84  84  84  84\n",
      "  84  84  91  91  91  91  91  91  91  91  91  91  91  91  91  91  91  91\n",
      "  91  91  91  91  91  91  91  91  91  91  91  91  91  91  91  91  91  91\n",
      "  91  91  91  91  91  91  91  91  91  91  91  91  91  91  91  91  91  91\n",
      "  91  91  91  91  91  91  91  91  91  91  91  91  91  91  91  91  91  91\n",
      "  91  91  91  91  91  91  91  91]\n"
     ]
    }
   ],
   "source": [
    "print(gen_status_ee[1])\n",
    "print(gen_id_ee[1])\n",
    "\n",
    "print(gen_status_ee[0][5])\n",
    "\n",
    "# for i in range(0,len(gen_status)):\n",
    "#     for j in range(0,len(gen_status[i])):\n",
    "#         if j != 91:\n",
    "#             np.delete(gen_status[i], j)\n",
    "# for i in range(0,4):\n",
    "#     for j in range(0,len(gen_status[i])):\n",
    "#         if j != 91:\n",
    "#             print(np.delete(gen_status[i], j))\n",
    "# x = np.arange(10)\n",
    "# condlist = [x<3, x>5]\n",
    "# choicelist = [x, x**2]\n",
    "# np.select(condlist, choicelist)\n",
    "# for i in range(0,4):\n",
    "#     for j in range(0,len(gen_status[i])):\n",
    "#         condlist = [gen_status[i][j] == 91]\n",
    "#         choicelist = [gen_status[i][j]]\n",
    "#         print(np.select(condlist, choicelist))\n",
    "print(gen_status_ee[1])"
   ]
  },
  {
   "cell_type": "code",
   "execution_count": 4,
   "metadata": {},
   "outputs": [
    {
     "name": "stdout",
     "output_type": "stream",
     "text": [
      "[-22 -44 -44 -44 -62 -62 -62 -62 -62 -62 -62 -62 -62 -62 -62 -62 -62 -62\n",
      " -62 -63 -63 -63 -63  51  51  51  52  83  83  83  83  83  84  84  84  84\n",
      "  84  84  91  91  91  91  91  91  91  91  91  91  91  91  91  91  91  91\n",
      "  91  91  91  91  91  91  91  91  91  91  91  91  91  91  91  91  91  91\n",
      "  91  91  91  91  91  91  91  91  91  91  91  91  91  91  91  91  91  91\n",
      "  91  91  91  91  91  91  91  91  91  91  91  91  91  91  91  91  91  91\n",
      "  91  91  91  91  91  91  91  91]\n",
      "(array([ 38,  39,  40,  41,  42,  43,  44,  45,  46,  47,  48,  49,  50,\n",
      "        51,  52,  53,  54,  55,  56,  57,  58,  59,  60,  61,  62,  63,\n",
      "        64,  65,  66,  67,  68,  69,  70,  71,  72,  73,  74,  75,  76,\n",
      "        77,  78,  79,  80,  81,  82,  83,  84,  85,  86,  87,  88,  89,\n",
      "        90,  91,  92,  93,  94,  95,  96,  97,  98,  99, 100, 101, 102,\n",
      "       103, 104, 105, 106, 107, 108, 109, 110, 111, 112, 113, 114, 115]),)\n",
      "38\n",
      "91\n",
      "[91 91 91 91 91 91 91 91 91 91 91 91 91 91 91 91 91 91 91 91 91 91 91 91\n",
      " 91 91 91 91 91 91 91 91 91 91 91 91 91 91 91 91 91 91 91 91 91 91 91 91\n",
      " 91 91 91 91 91 91 91 91 91 91 91 91 91 91 91 91 91 91 91 91 91 91 91 91\n",
      " 91 91 91 91 91 91]\n",
      "[91 91 91 91 91 91 91 91 91 91 91 91 91 91 91 91 91 91 91 91 91 91 91 91\n",
      " 91 91 91 91 91 91 91 91 91 91 91 91 91 91 91 91 91 91 91 91 91 91 91 91\n",
      " 91 91 91 91 91 91 91 91 91 91 91 91 91 91 91 91 91 91 91 91 91 91 91 91\n",
      " 91 91 91 91 91 91]\n",
      "[-22 -44 -44 -44 -62 -62 -62 -62 -62 -62 -62 -62 -62 -62 -62 -62 -62 -62\n",
      " -62 -63 -63 -63 -63  51  51  51  52  83  83  83  83  83  84  84  84  84\n",
      "  84  84  91  91  91  91  91  91  91  91  91  91  91  91  91  91  91  91\n",
      "  91  91  91  91  91  91  91  91  91  91  91  91  91  91  91  91  91  91\n",
      "  91  91  91  91  91  91  91  91  91  91  91  91  91  91  91  91  91  91\n",
      "  91  91  91  91  91  91  91  91  91  91  91  91  91  91  91  91  91  91\n",
      "  91  91  91  91  91  91  91  91]\n",
      "[   23    23    23    23    23    21    21    21    21    21    21    21\n",
      "    21    21    21    21    21    21    21  2103  2101     2     2    22\n",
      "   -11    22    11   321  2112 -2212  -211   211  -321   211   321   211\n",
      "  -211   321  2212   211  -211   211  -211   211   321  -211   130  -321\n",
      "   211   211  -211  -211  -211   211  -211   211   130   130    22    22\n",
      "    22    22   211  -211    22    22    22    22    22    22    22    22\n",
      "    22    22    22    22    22    22  2112  -211   211  -211    22    22\n",
      "    22    22    22    22    22    22    22    22    22    22   211  -211\n",
      "    22    22    22    22    22    22    22    22   211  -211   211  -211\n",
      "   211  -211    22    22    22    22    22    22]\n",
      "[91 91 91 91 91 91 91 91 91 91 91 91 91 91 91 91 91 91 91 91 91 91 91 91\n",
      " 91 91 91 91 91 91 91 91 91 91 91 91 91 91 91 91 91 91 91 91 91 91 91 91\n",
      " 91 91 91 91 91 91 91 91 91 91 91 91 91 91 91 91 91 91 91 91 91 91 91 91\n",
      " 91 91 91 91 91 91]\n"
     ]
    }
   ],
   "source": [
    "print(gen_status_ee[1])\n",
    "print(np.where(gen_status_ee[1] == 91))\n",
    "first_index = np.where(gen_status_ee[1]==91)[0][0]\n",
    "print(first_index)\n",
    "print(gen_status_ee[1][38])\n",
    "print(gen_status_ee[1][38:])\n",
    "# np.delete(gen_status_ee[1], gen_status_ee[1][:first_index:1],0)\n",
    "# print(np.delete(abs(gen_status_ee[1]), gen_status_ee[1][:first_index], 0))\n",
    "print(np.delete(abs(gen_status_ee[1]), np.s_[0:first_index], 0))\n",
    "a = np.delete(abs(gen_status_ee[1]), np.s_[0:first_index], 0)\n",
    "print(gen_status_ee[1])\n",
    "print(gen_id_ee[1])\n",
    "print(a)"
   ]
  },
  {
   "cell_type": "code",
   "execution_count": 5,
   "metadata": {},
   "outputs": [
    {
     "name": "stdout",
     "output_type": "stream",
     "text": [
      "[  211   211  -211  -321   211  -211   321  -211   211  -211   211   211\n",
      "  -211   211  -211   211   130  -211  -211  -211   211  -211   211   211\n",
      "  -211  -211   211  -211   211  -211 -2212   130   211  2112   211  -211\n",
      "   211   130 -2112   211   211  -211  -211   211   211  -211   211   211\n",
      "  -211   211  -211   130  -321   211  2112 -2112  -211  -211   130   211\n",
      "   211  -211   130   130   211   321  -211   211  -211  -211   211  -211\n",
      "   130   130  -211   211   130   130   211  -211   130    22   211  -211\n",
      "   211  -211   130   211  -211   211  -211    22    22    22    22    22\n",
      "    22    22    22    22    22    22    22    22    22    22    22   211\n",
      "  -211    22    22   211  -211    22    22    22    22  2112  -211 -2112\n",
      "  -211   211  -211    22    22    22    22    22    22    22    22    22\n",
      "    22    22    22    22    22    22    22    22    22    22    22    22\n",
      "    22    22    22    22    22    22    22    22    22    22   211  -211\n",
      "    22    22   211  -211    22    22   211  -211    22    22    22    22\n",
      "    22    22    22    22 -2112    22    22   211  -211   321  -321    22\n",
      "    22    22    22    22    22   211  -211    22    22    22    22    22\n",
      "    22    22    22    22    22    22   211  -211    22    22    22   211\n",
      "  -211    22    22    22    22    22    22    22    22    22    22    22\n",
      "    22    22    22    22    22    22    22   211  -211   211  -211    22\n",
      "    22    22    22    22    22    22    22    22    22    22    22    22\n",
      "    22    22    22    22    22    22    22    22    22  2212  -211    22\n",
      "    22    22    22    22    22    22    22    22    22    22    22    22\n",
      "    22    22    22    22    22    22    22  2112    22    22    22    22\n",
      "    22    22    22    22 -2112   211  -211   211  -211    22    22    22\n",
      "    22    22    22    22    22    22    22    22    22    22    11   -11\n",
      "   211  -211    22    22    22    22    22    22    22    22    22    22\n",
      "   211  -211    22    22    22    22    22    22    22    22    22    22\n",
      "    22    22   211  -211    22    22    22    22    22    22    22    22\n",
      "    22    22    22    22    22    22    22    22    22    22]\n"
     ]
    }
   ],
   "source": [
    "# print(gen_id_ee[0])\n",
    "first_index = np.where(gen_status_ee[0]==91)[0][0]\n",
    "# print(first_index)\n",
    "filtered = np.delete(gen_id_ee[0], np.s_[0:first_index], 0)\n",
    "# print(filtered)\n",
    "\n",
    "print(np.delete(gen_id_ee[0], np.s_[0:(np.where(gen_status_ee[0]==91)[0][0])], 0))"
   ]
  },
  {
   "cell_type": "code",
   "execution_count": 6,
   "metadata": {},
   "outputs": [
    {
     "name": "stdout",
     "output_type": "stream",
     "text": [
      "[   23    23    23    23    23    21    21    -1    21    21    21     1\n",
      "    21    21    21    21    21    21    21  2103     2  2101     2    21\n",
      "    -2    21     5    21    21    21    21    21    21    21    21    21\n",
      "     2    21    21    21    21    21    -5    21    21    21  -321   211\n",
      "   211  -321   211   321   211   211  2112   211  -211   211  -211   211\n",
      "  2112   321  -321   321  2112 -2212   211 -2212   321  -211   211  -211\n",
      "   211  -211   321  -321   211  -211   211  -211   211   211  -211  -211\n",
      "  -211  -211   211  -211  -321   211  -211  2112   211   211  -211  -321\n",
      "   211   211  -211   211  -211   211  -211  2112   130  2112  -211    12\n",
      "   -11  2212    22    22    22    22 -2112  -211   211  -211    22    22\n",
      "    22    22    22    22    22    22    22    22    22    22    22    22\n",
      "    22    22    22    22   211  -211   211  -211    22    22   211  -211\n",
      "    22    22   211  -211   211  -211    22    22    22    22 -2212   211\n",
      "    22    22    22    22   211  -211    22    22    22    22    22    22\n",
      "    22    22   211  -211 -2212   211    22    22    22   211  -211    22\n",
      "    22    22    22    22    22    22    22    22    22    22    22    22\n",
      "    22    22    22    22    22  -321  -211   321    22    22   321    22\n",
      "    22   211  -211  -211   211  -211    22    22   211  -211   211  -211]\n",
      "81\n",
      "[  211  -211  -211  -211  -211   211  -211  -321   211  -211  2112   211\n",
      "   211  -211  -321   211   211  -211   211  -211   211  -211  2112   130\n",
      "  2112  -211    12   -11  2212    22    22    22    22 -2112  -211   211\n",
      "  -211    22    22    22    22    22    22    22    22    22    22    22\n",
      "    22    22    22    22    22    22    22   211  -211   211  -211    22\n",
      "    22   211  -211    22    22   211  -211   211  -211    22    22    22\n",
      "    22 -2212   211    22    22    22    22   211  -211    22    22    22\n",
      "    22    22    22    22    22   211  -211 -2212   211    22    22    22\n",
      "   211  -211    22    22    22    22    22    22    22    22    22    22\n",
      "    22    22    22    22    22    22    22    22  -321  -211   321    22\n",
      "    22   321    22    22   211  -211  -211   211  -211    22    22   211\n",
      "  -211   211  -211]\n"
     ]
    }
   ],
   "source": [
    "print(gen_id_bb[0])\n",
    "first_index_a = np.where(gen_status_bb[0]==91)[0][0]\n",
    "print(first_index_a)\n",
    "filtered_a = np.delete(gen_id_bb[0], np.s_[0:first_index_a], 0)\n",
    "print(filtered_a)"
   ]
  },
  {
   "cell_type": "code",
   "execution_count": 7,
   "metadata": {},
   "outputs": [],
   "source": [
    "# print(gen_id_bb[0])\n",
    "# first_index_a = np.where(gen_status_bb[0]==91)[0][0]\n",
    "# print(first_index_a)\n",
    "# filtered_a = np.delete(gen_id_bb[0], np.s_[0:first_index_a], 0)\n",
    "# print(filtered_a)\n",
    "\n",
    "# for i in range(0, 2):\n",
    "#     filtered_gen_id_ee = np.array([np.zeros(len(gen_id_ee)),np.zeros(len(gen_id_ee[i]))])\n",
    "# print(filtered_gen_id_ee)\n",
    "\n",
    "# for i in range(0, 2):\n",
    "#     first_index = np.where(gen_status_ee[i]==91)[0][0]\n",
    "#     filtered_gen_id = np.delete(gen_id_ee[i], np.s_[0:first_index], 0)\n",
    "#     np.vstack((filtered_gen_id_ee, filtered_gen_id))\n",
    "# #     filtered_gen_id_ee.append(filtered_gen_id)\n",
    "\n",
    "# print(filtered_gen_id_ee)"
   ]
  },
  {
   "cell_type": "code",
   "execution_count": 8,
   "metadata": {},
   "outputs": [
    {
     "name": "stdout",
     "output_type": "stream",
     "text": [
      "[[23 23 23 ... 22 22 22] [23 23 23 ... 22 22 22] [23 23 23 ... -211 211 -211] ... [23 23 23 ... 22 22 22] [23 23 23 ... 211 211 -211] [23 23 23 ... 22 22 22]]\n",
      "[[23 23 23 ... -211 211 -211] [23 23 23 ... 22 2212 22] [23 23 23 ... -211 22 22] ... [23 23 23 ... 22 22 22] [23 23 23 ... 22 -211 130] [23 23 23 ... 211 22 22]]\n"
     ]
    }
   ],
   "source": [
    "# gen_id_ee = gen_id_ee + 5000\n",
    "# gen_id_bb = gen_id_bb + 5000\n",
    "\n",
    "print(gen_id_ee)\n",
    "print(gen_id_bb)"
   ]
  },
  {
   "cell_type": "code",
   "execution_count": 9,
   "metadata": {},
   "outputs": [
    {
     "name": "stdout",
     "output_type": "stream",
     "text": [
      "7130\n",
      "1580\n"
     ]
    }
   ],
   "source": [
    "# print(gen_status_bb[1])\n",
    "# print(gen_id_bb[1])\n",
    "\n",
    "# print(gen_status_bb[0][5])\n",
    "\n",
    "# print(gen_status_bb[1])\n",
    "\n",
    "print(len(gen_id_bb))\n",
    "sizes_bb = []\n",
    "for i in range(0,len(gen_id_bb)):\n",
    "    sizes_bb.append(len(gen_id_bb[i]))\n",
    "print(np.amax(sizes_bb))"
   ]
  },
  {
   "cell_type": "code",
   "execution_count": 10,
   "metadata": {},
   "outputs": [
    {
     "name": "stdout",
     "output_type": "stream",
     "text": [
      "[False False False False False False False False False False False False\n",
      " False False False False False False False False False False False False\n",
      " False False False False False False False False False False False False\n",
      " False False  True  True  True  True  True  True  True  True  True  True\n",
      "  True  True  True  True  True  True  True  True  True  True  True  True\n",
      "  True  True  True  True  True  True  True  True  True  True  True  True\n",
      "  True  True  True  True  True  True  True  True  True  True  True  True\n",
      "  True  True  True  True  True  True  True  True  True  True  True  True\n",
      "  True  True  True  True  True  True  True  True  True  True  True  True\n",
      "  True  True  True  True  True  True  True  True]\n"
     ]
    }
   ],
   "source": [
    "# # arr = np.array([[1,2,3,4], [5,6,7,8], [9,10,11,12]])\n",
    "# # print(arr)\n",
    "# # print(np.delete(arr, 1, 0))\n",
    "\n",
    "# a = np.array([1, 2, 3, 4, 5, 6, 7, 8, 9])\n",
    "# # index = [2]\n",
    "\n",
    "# # new_a = np.delete(a, index)\n",
    "\n",
    "# # print(new_a.pop(4)) #Prints `[1, 2, 5, 6, 8, 9]\n",
    "# import numpy.ma as ma\n",
    "# # mx = ma.masked_array(a, mask = ((a < 3 ) | (a > 7)) )\n",
    "# # print(mx)\n",
    "\n",
    "# for i in range(0,4):\n",
    "#     mx = ma.masked_array(gen_staus[i], mask = ( gen_status[i] == 91 )\n",
    "\n",
    "# print(mx)\n",
    "# ------------------------------------------------------------------------------------\n",
    "# for i in range(0,4):\n",
    "#     for j in range(0,len(gen_status_ee[i])):\n",
    "#         if gen_status_ee[i][j] == 91:\n",
    "# #             gen_status[i][j] = np.array(gen_status[i][j])\n",
    "#             print(gen_status_ee[i][j])\n",
    "# print(gen_status_ee)\n",
    "# ------------------------------------------------------------------------------------\n",
    "# gen_status_final = np.array\n",
    "# print(gen_status_final)\n",
    "# for i in range(0,4):\n",
    "#     for j in range(0,len(gen_status[i])):\n",
    "#         if gen_status[i][j] == 91:\n",
    "#             gen_status_final[i][j] = np.array(gen_status[i][j])\n",
    "#             print(gen_status_final[i][j])\n",
    "# print(gen_status_final)\n",
    "\n",
    "\n",
    "print(gen_status_ee[1][:] == 91)"
   ]
  },
  {
   "cell_type": "code",
   "execution_count": 11,
   "metadata": {},
   "outputs": [
    {
     "name": "stdout",
     "output_type": "stream",
     "text": [
      "346\n"
     ]
    }
   ],
   "source": [
    "is_final = abs(gen_status_ee) == 91\n",
    "final_particles = particles[is_final]\n",
    "# for event in range(0,len(gen_id)):\n",
    "#     for part in range(0,len(gen_id[event])):\n",
    "#         if gen_status.any == 91:\n",
    "#             print(gen_id[part])\n",
    "\n",
    "print(len(final_particles[0]))"
   ]
  },
  {
   "cell_type": "markdown",
   "metadata": {},
   "source": [
    "**Still need to figure out how to select final state (91) only**"
   ]
  },
  {
   "cell_type": "code",
   "execution_count": 12,
   "metadata": {},
   "outputs": [],
   "source": [
    "# #id_bins = np.linspace(0,2000,2001)\n",
    "# # id_bins = [0,1,2,3,4,5,6,7,8,9,10,11,12,13,14,15,20,21,22,23,24,25,30,100,220,240,260,300,340,380,420,480,500]\n",
    "# id_bins = [0,1,2,3,4,5,6,7,8,9,10,11,12,13,14,15,20,21,22,23,24,25,30]\n",
    "# plt.hist(x=gen_id_ee.flatten(), bins=id_bins, log=True, density=True)\n",
    "\n",
    "# # print(pairings_added.mass.flatten())\n",
    "\n",
    "# plt.show()"
   ]
  },
  {
   "cell_type": "code",
   "execution_count": 13,
   "metadata": {},
   "outputs": [],
   "source": [
    "# plt.clf()\n",
    "\n",
    "# plt.hist(x=gen_id_bb.flatten(), bins=id_bins, log=True, density=True)\n",
    "\n",
    "# plt.show()"
   ]
  },
  {
   "cell_type": "code",
   "execution_count": 14,
   "metadata": {},
   "outputs": [
    {
     "name": "stdout",
     "output_type": "stream",
     "text": [
      "['Z_ee_jet', 'Z_bb_jet']\n",
      "[0 0 0 ... 0 0 0]\n",
      "2574\n",
      "(2574,)\n",
      "2574\n",
      "(2574,)\n",
      "[1 1 1 ... 1 1 1]\n",
      "7130\n",
      "(7130,)\n",
      "7130\n",
      "(7130,)\n"
     ]
    }
   ],
   "source": [
    "class_names = ['Z_ee_jet', 'Z_bb_jet']\n",
    "print(class_names)\n",
    "Z_ee_jet = np.array([0]*len(gen_id_ee))\n",
    "Z_bb_jet = np.array([1]*len(gen_id_bb))\n",
    "\n",
    "print(Z_ee_jet)\n",
    "print(len(Z_ee_jet))\n",
    "print(Z_ee_jet.shape)\n",
    "print(len(gen_id_ee))\n",
    "print(gen_id_ee.shape)\n",
    "\n",
    "print(Z_bb_jet)\n",
    "print(len(Z_bb_jet))\n",
    "print(Z_bb_jet.shape)\n",
    "print(len(gen_id_bb))\n",
    "print(gen_id_bb.shape)"
   ]
  },
  {
   "cell_type": "code",
   "execution_count": 15,
   "metadata": {},
   "outputs": [],
   "source": [
    "# model = tf.keras.Sequential()\n",
    "\n",
    "# model.add(keras.layers.Embedding(10000, 16))\n",
    "# model.add(keras.layers.GlobalAveragePooling1D())\n",
    "# model.add(keras.layers.Dense(16, activation=tf.nn.relu))\n",
    "# model.add(keras.layers.Dense(1, activation=tf.nn.softmax))\n",
    "\n",
    "# model.summary()"
   ]
  },
  {
   "cell_type": "code",
   "execution_count": 16,
   "metadata": {},
   "outputs": [],
   "source": [
    "# model.compile(optimizer='adam',\n",
    "#               loss='binary_crossentropy',\n",
    "#               metrics=['acc'])"
   ]
  },
  {
   "cell_type": "code",
   "execution_count": 17,
   "metadata": {},
   "outputs": [],
   "source": [
    "# model.predict(gen_id, Z_ee_jet, epochs=5)"
   ]
  },
  {
   "cell_type": "code",
   "execution_count": 18,
   "metadata": {},
   "outputs": [],
   "source": [
    "part_size = 2048\n",
    "\n",
    "# model = keras.Sequential()\n",
    "# model.add(keras.layers.Embedding(part_size+1, 16))\n",
    "# model.add(keras.layers.GlobalAveragePooling1D())\n",
    "# # model.add(keras.layers.Dense(16, activation=tf.nn.relu))\n",
    "# model.add(keras.layers.LeakyReLU(alpha=0.3))\n",
    "# model.add(keras.layers.Dense(1, activation=tf.nn.sigmoid))\n",
    "# # model.add(keras.layers.Dense(1, activation=tf.nn.softmax))\n",
    "\n",
    "model = keras.Sequential([\n",
    "#     keras.layers.Flatten(input_shape=(28, 28)),\n",
    "#     keras.layers.Dense(128, activation=tf.nn.relu),\n",
    "#     keras.layers.Dense(128, activation=tf.nn.tanh),\n",
    "    keras.layers.Dense(256, activation=tf.nn.tanh),\n",
    "#     keras.layers.LeakyReLU(alpha=0.3),\n",
    "    keras.layers.Dense(16, activation=tf.nn.softmax)\n",
    "])\n",
    "\n",
    "# model.summary()"
   ]
  },
  {
   "cell_type": "code",
   "execution_count": 19,
   "metadata": {},
   "outputs": [],
   "source": [
    "# model.compile(optimizer='adam',\n",
    "#               loss='binary_crossentropy',\n",
    "#               metrics=['acc'])\n",
    "model.compile(optimizer='adam',\n",
    "              loss='sparse_categorical_crossentropy',\n",
    "              metrics=['acc'])"
   ]
  },
  {
   "cell_type": "markdown",
   "metadata": {},
   "source": [
    "changed compile params due to: https://stackoverflow.com/questions/50768538/indices-not-in-range-running-lstm-model-on-sequence-data\n",
    "\n",
    "binary led to ${\\approx}$30% accuracy, sparse gives ${\\approx}$70% currently, need to play around with"
   ]
  },
  {
   "cell_type": "code",
   "execution_count": 20,
   "metadata": {},
   "outputs": [],
   "source": [
    "# #print(gen_id[0])\n",
    "# print(len(gen_id))\n",
    "# print(len(gen_id)/2)\n",
    "\n",
    "# half = int(len(gen_id)/2)\n",
    "\n",
    "# x_val = gen_id[:half]\n",
    "# partial_x_train = gen_id[half:]\n",
    "\n",
    "# y_val = gen_id[:half]\n",
    "# partial_y_train = gen_id[half:]\n",
    "\n",
    "# print(x_val)\n",
    "# print(partial_x_train)\n",
    "# print(len(x_val))\n",
    "# print(len(partial_x_train))\n",
    "# print(len(gen_id[0]))"
   ]
  },
  {
   "cell_type": "code",
   "execution_count": 21,
   "metadata": {},
   "outputs": [
    {
     "name": "stdout",
     "output_type": "stream",
     "text": [
      "2574\n",
      "2574\n",
      "1318\n",
      "7130\n",
      "1580\n"
     ]
    }
   ],
   "source": [
    "print(np.amax(len(gen_id_ee)))\n",
    "print(len(gen_id_ee))\n",
    "sizes_ee = []\n",
    "for i in range(0,len(gen_id_ee)):\n",
    "    sizes_ee.append(len(gen_id_ee[i]))\n",
    "print(np.amax(sizes_ee))\n",
    "\n",
    "print(len(gen_id_bb))\n",
    "sizes_bb = []\n",
    "for i in range(0,len(gen_id_bb)):\n",
    "    sizes_bb.append(len(gen_id_bb[i]))\n",
    "print(np.amax(sizes_bb))"
   ]
  },
  {
   "cell_type": "markdown",
   "metadata": {},
   "source": [
    "**Largest size is 1318 elements...so padd up 10 1320 ?**\n",
    "\n",
    "**For now...haven't cut down to include only final stat yet**\n",
    "\n",
    "**Largest size is now 1580**"
   ]
  },
  {
   "cell_type": "code",
   "execution_count": 22,
   "metadata": {},
   "outputs": [
    {
     "name": "stdout",
     "output_type": "stream",
     "text": [
      "1580\n",
      "[[23 23 23 ...  0  0  0]\n",
      " [23 23 23 ...  0  0  0]\n",
      " [23 23 23 ...  0  0  0]\n",
      " ...\n",
      " [23 23 23 ...  0  0  0]\n",
      " [23 23 23 ...  0  0  0]\n",
      " [23 23 23 ...  0  0  0]]\n"
     ]
    }
   ],
   "source": [
    "max_len = -1\n",
    "\n",
    "if (np.amax(sizes_ee)) >= (np.amax(sizes_bb)):\n",
    "    max_len = np.amax(sizes_ee)\n",
    "else:\n",
    "    max_len = np.amax(sizes_bb)\n",
    "\n",
    "print(max_len)\n",
    "\n",
    "gen_id_ee = keras.preprocessing.sequence.pad_sequences(gen_id_ee,\n",
    "                                                       value=0,\n",
    "                                                       padding='post',\n",
    "                                                       maxlen=max_len + 1)\n",
    "\n",
    "gen_id_bb = keras.preprocessing.sequence.pad_sequences(gen_id_bb,\n",
    "                                                       value=0,\n",
    "                                                       padding='post',\n",
    "                                                       maxlen=max_len + 1)\n",
    "\n",
    "print(gen_id_ee)"
   ]
  },
  {
   "cell_type": "code",
   "execution_count": 23,
   "metadata": {},
   "outputs": [
    {
     "name": "stdout",
     "output_type": "stream",
     "text": [
      "2574\n",
      "1287.0\n",
      "7130\n",
      "3565.0\n"
     ]
    }
   ],
   "source": [
    "# #print(gen_id[0])\n",
    "# print(len(gen_id))\n",
    "# print(len(gen_id)/2)\n",
    "\n",
    "# half = int(len(gen_id)/2)\n",
    "\n",
    "# # data\n",
    "# x_val = gen_id[:half]\n",
    "# partial_x_train = gen_id[half:]\n",
    "\n",
    "# # labels of data\n",
    "# y_val = Z_ee_jet[:half]\n",
    "# partial_y_train = Z_ee_jet[half:]\n",
    "\n",
    "# print(x_val)\n",
    "# print(partial_x_train)\n",
    "# print(len(x_val))\n",
    "# print(len(partial_x_train))\n",
    "# print(len(gen_id[0]))\n",
    "# print(len(x_val[0]))\n",
    "# print(len(partial_x_train[0]))\n",
    "# print(x_val.shape)\n",
    "# print(partial_x_train.shape)\n",
    "# print(y_val)\n",
    "# print(partial_y_train)\n",
    "# print(y_val.shape)\n",
    "# print(partial_y_train.shape)\n",
    "\n",
    "#print(gen_id[0])\n",
    "print(len(gen_id_ee))\n",
    "print(len(gen_id_ee)/2)\n",
    "\n",
    "print(len(gen_id_bb))\n",
    "print(len(gen_id_bb)/2)\n",
    "\n",
    "half_ee = int(len(gen_id_ee)/2)\n",
    "half_bb = int(len(gen_id_bb)/2)\n",
    "\n",
    "# data\n",
    "x_val_ee = gen_id_ee[:half_ee]\n",
    "partial_x_train_ee = gen_id_ee[half_ee:]\n",
    "\n",
    "x_val_bb = gen_id_bb[:half_bb]\n",
    "partial_x_train_bb = gen_id_bb[half_bb:]\n",
    "\n",
    "# vstack ?\n",
    "\n",
    "# labels of data\n",
    "y_val_ee = Z_ee_jet[:half_ee]\n",
    "partial_y_train_ee = Z_ee_jet[half_ee:]\n",
    "\n",
    "y_val_bb = Z_bb_jet[:half_bb]\n",
    "partial_y_train_bb = Z_bb_jet[half_bb:]\n",
    "\n",
    "# vstack ?\n",
    "\n",
    "# print(x_val)\n",
    "# print(partial_x_train)\n",
    "# print(len(x_val))\n",
    "# print(len(partial_x_train))\n",
    "# print(len(gen_id[0]))\n",
    "# print(len(x_val[0]))\n",
    "# print(len(partial_x_train[0]))\n",
    "# print(x_val.shape)\n",
    "# print(partial_x_train.shape)\n",
    "# print(y_val)\n",
    "# print(partial_y_train)\n",
    "# print(y_val.shape)\n",
    "# print(partial_y_train.shape)"
   ]
  },
  {
   "cell_type": "code",
   "execution_count": 24,
   "metadata": {},
   "outputs": [
    {
     "name": "stdout",
     "output_type": "stream",
     "text": [
      "[[23 23 23 ...  0  0  0]\n",
      " [23 23 23 ...  0  0  0]\n",
      " [23 23 23 ...  0  0  0]\n",
      " ...\n",
      " [23 23 23 ...  0  0  0]\n",
      " [23 23 23 ...  0  0  0]\n",
      " [23 23 23 ...  0  0  0]]\n",
      "[[23 23 23 ...  0  0  0]\n",
      " [23 23 23 ...  0  0  0]\n",
      " [23 23 23 ...  0  0  0]\n",
      " ...\n",
      " [23 23 23 ...  0  0  0]\n",
      " [23 23 23 ...  0  0  0]\n",
      " [23 23 23 ...  0  0  0]]\n",
      "1287\n",
      "1287\n",
      "1581\n",
      "1581\n",
      "1581\n",
      "(1287, 1581)\n",
      "(1287, 1581)\n",
      "[0 0 0 ... 0 0 0]\n",
      "[0 0 0 ... 0 0 0]\n",
      "(1287,)\n",
      "(1287,)\n"
     ]
    }
   ],
   "source": [
    "print(x_val_ee)\n",
    "print(partial_x_train_ee)\n",
    "print(len(x_val_ee))\n",
    "print(len(partial_x_train_ee))\n",
    "print(len(gen_id_ee[0]))\n",
    "print(len(x_val_ee[0]))\n",
    "print(len(partial_x_train_ee[0]))\n",
    "print(x_val_ee.shape)\n",
    "print(partial_x_train_ee.shape)\n",
    "print(y_val_ee)\n",
    "print(partial_y_train_ee)\n",
    "print(y_val_ee.shape)\n",
    "print(partial_y_train_ee.shape)"
   ]
  },
  {
   "cell_type": "code",
   "execution_count": 25,
   "metadata": {},
   "outputs": [
    {
     "name": "stdout",
     "output_type": "stream",
     "text": [
      "[[23 23 23 ...  0  0  0]\n",
      " [23 23 23 ...  0  0  0]\n",
      " [23 23 23 ...  0  0  0]\n",
      " ...\n",
      " [23 23 23 ...  0  0  0]\n",
      " [23 23 23 ...  0  0  0]\n",
      " [23 23 23 ...  0  0  0]]\n",
      "[[23 23 23 ...  0  0  0]\n",
      " [23 23 23 ...  0  0  0]\n",
      " [23 23 23 ...  0  0  0]\n",
      " ...\n",
      " [23 23 23 ...  0  0  0]\n",
      " [23 23 23 ...  0  0  0]\n",
      " [23 23 23 ...  0  0  0]]\n",
      "3565\n",
      "3565\n",
      "1581\n",
      "1581\n",
      "1581\n",
      "(3565, 1581)\n",
      "(3565, 1581)\n",
      "[1 1 1 ... 1 1 1]\n",
      "[1 1 1 ... 1 1 1]\n",
      "(3565,)\n",
      "(3565,)\n"
     ]
    }
   ],
   "source": [
    "print(x_val_bb)\n",
    "print(partial_x_train_bb)\n",
    "print(len(x_val_bb))\n",
    "print(len(partial_x_train_bb))\n",
    "print(len(gen_id_bb[0]))\n",
    "print(len(x_val_bb[0]))\n",
    "print(len(partial_x_train_bb[0]))\n",
    "print(x_val_bb.shape)\n",
    "print(partial_x_train_bb.shape)\n",
    "print(y_val_bb)\n",
    "print(partial_y_train_bb)\n",
    "print(y_val_bb.shape)\n",
    "print(partial_y_train_bb.shape)"
   ]
  },
  {
   "cell_type": "code",
   "execution_count": 26,
   "metadata": {},
   "outputs": [
    {
     "name": "stdout",
     "output_type": "stream",
     "text": [
      "1287\n",
      "3565\n",
      "[0 0 0 ... 0 0 0]\n",
      "[1 1 1 ... 1 1 1]\n",
      "[0 0 0 ... 1 1 1]\n",
      "[0 0 0 ... 1 1 1]\n",
      "4852\n"
     ]
    }
   ],
   "source": [
    "x_val = np.vstack((x_val_ee, x_val_bb))\n",
    "print(len(y_val_ee))\n",
    "print(len(y_val_bb))\n",
    "print(y_val_ee)\n",
    "print(y_val_bb)\n",
    "y_val = np.concatenate((y_val_ee, y_val_bb), axis=None)\n",
    "print(y_val)\n",
    "# y_val = np.vstack((y_val_ee, y_val_bb))\n",
    "\n",
    "partial_x_train = np.vstack((partial_x_train_ee, partial_x_train_bb))\n",
    "# partial_y_train = np.vstack((partial_y_train_ee, partial_y_train_bb))\n",
    "partial_y_train = np.concatenate((partial_y_train_ee, partial_y_train_bb))\n",
    "\n",
    "print(partial_y_train)\n",
    "\n",
    "print(len(partial_y_train))"
   ]
  },
  {
   "cell_type": "markdown",
   "metadata": {},
   "source": [
    "Normalize the data ? Help with range issue?"
   ]
  },
  {
   "cell_type": "code",
   "execution_count": 27,
   "metadata": {},
   "outputs": [],
   "source": [
    "# x_val = x_val / 10000\n",
    "# partial_x_train = partial_x_train / 10000\n",
    "# y_val = y_val / 10\n",
    "# partial_y_train = partial_y_train / 10\n",
    "\n",
    "x_val = x_val \n",
    "partial_x_train = partial_x_train \n",
    "y_val = y_val \n",
    "partial_y_train = partial_y_train "
   ]
  },
  {
   "cell_type": "markdown",
   "metadata": {},
   "source": [
    "**(Still need to figure out maxlen) -- Done(-ish)**"
   ]
  },
  {
   "cell_type": "markdown",
   "metadata": {},
   "source": [
    "~~Possible error meanign for below block, re: array vs seq~~: https://www.google.com/search?client=ubuntu&channel=fs&q=setting+an+array+element+with+a+sequence.&ie=utf-8&oe=utf-8 -- **Resolved [x]**: (for model.fit, x is data and y is labels) https://keras.io/models/model/\n",
    "\n",
    "So it looks like the problem is the gen-id somehow needs to be in the range of number of nodes? Negative values clearly weren't, so added 5000 to all to make all positive, but now same error as \"indices[112,324] = 7212 is not in [0, 7131]\" which is the same sort of error as before...am I confusing number of nodes with choices for id? Leaky ReLU handle negatives?\n",
    "\n",
    "**Maybe I skipped an important preprocessing step? Check text-classification?**"
   ]
  },
  {
   "cell_type": "code",
   "execution_count": 28,
   "metadata": {},
   "outputs": [
    {
     "name": "stdout",
     "output_type": "stream",
     "text": [
      "Train on 4852 samples, validate on 4852 samples\n",
      "Epoch 1/20\n",
      "4852/4852 [==============================] - 1s 147us/step - loss: 2.3443 - acc: 0.3108 - val_loss: 1.5199 - val_acc: 0.5357\n",
      "Epoch 2/20\n",
      "4852/4852 [==============================] - 0s 99us/step - loss: 1.1392 - acc: 0.6406 - val_loss: 1.0186 - val_acc: 0.6381\n",
      "Epoch 3/20\n",
      "4852/4852 [==============================] - 0s 101us/step - loss: 0.8094 - acc: 0.6904 - val_loss: 0.8582 - val_acc: 0.6441\n",
      "Epoch 4/20\n",
      "4852/4852 [==============================] - 0s 99us/step - loss: 0.6792 - acc: 0.7141 - val_loss: 0.7832 - val_acc: 0.6519\n",
      "Epoch 5/20\n",
      "4852/4852 [==============================] - 0s 99us/step - loss: 0.6166 - acc: 0.7331 - val_loss: 0.7430 - val_acc: 0.6593\n",
      "Epoch 6/20\n",
      "4852/4852 [==============================] - 0s 102us/step - loss: 0.5814 - acc: 0.7389 - val_loss: 0.7241 - val_acc: 0.6612\n",
      "Epoch 7/20\n",
      "4852/4852 [==============================] - 0s 101us/step - loss: 0.5551 - acc: 0.7477 - val_loss: 0.7097 - val_acc: 0.6669\n",
      "Epoch 8/20\n",
      "4852/4852 [==============================] - 0s 97us/step - loss: 0.5332 - acc: 0.7587 - val_loss: 0.7020 - val_acc: 0.6661\n",
      "Epoch 9/20\n",
      "4852/4852 [==============================] - 0s 96us/step - loss: 0.5196 - acc: 0.7609 - val_loss: 0.7092 - val_acc: 0.6620\n",
      "Epoch 10/20\n",
      "4852/4852 [==============================] - 1s 104us/step - loss: 0.5107 - acc: 0.7669 - val_loss: 0.7088 - val_acc: 0.6595\n",
      "Epoch 11/20\n",
      "4852/4852 [==============================] - 0s 93us/step - loss: 0.4987 - acc: 0.7716 - val_loss: 0.7078 - val_acc: 0.6772\n",
      "Epoch 12/20\n",
      "4852/4852 [==============================] - 1s 104us/step - loss: 0.4922 - acc: 0.7739 - val_loss: 0.7081 - val_acc: 0.6721\n",
      "Epoch 13/20\n",
      "4852/4852 [==============================] - 0s 96us/step - loss: 0.4835 - acc: 0.7789 - val_loss: 0.7108 - val_acc: 0.6659\n",
      "Epoch 14/20\n",
      "4852/4852 [==============================] - 1s 107us/step - loss: 0.4768 - acc: 0.7826 - val_loss: 0.7109 - val_acc: 0.6698\n",
      "Epoch 15/20\n",
      "4852/4852 [==============================] - 1s 118us/step - loss: 0.4700 - acc: 0.7842 - val_loss: 0.7114 - val_acc: 0.6599\n",
      "Epoch 16/20\n",
      "4852/4852 [==============================] - 1s 114us/step - loss: 0.4676 - acc: 0.7828 - val_loss: 0.7146 - val_acc: 0.6587\n",
      "Epoch 17/20\n",
      "4852/4852 [==============================] - 1s 114us/step - loss: 0.4635 - acc: 0.7908 - val_loss: 0.7220 - val_acc: 0.6630\n",
      "Epoch 18/20\n",
      "4852/4852 [==============================] - 0s 103us/step - loss: 0.4589 - acc: 0.7890 - val_loss: 0.7224 - val_acc: 0.6595\n",
      "Epoch 19/20\n",
      "4852/4852 [==============================] - 0s 101us/step - loss: 0.4562 - acc: 0.7892 - val_loss: 0.7258 - val_acc: 0.6467\n",
      "Epoch 20/20\n",
      "4852/4852 [==============================] - 0s 98us/step - loss: 0.4546 - acc: 0.7929 - val_loss: 0.7311 - val_acc: 0.6568\n"
     ]
    }
   ],
   "source": [
    "history = model.fit(partial_x_train,\n",
    "                    partial_y_train,\n",
    "                    epochs=20,\n",
    "                    batch_size=128,\n",
    "                    validation_data=(x_val, y_val),\n",
    "                    verbose=1)"
   ]
  },
  {
   "cell_type": "code",
   "execution_count": 29,
   "metadata": {},
   "outputs": [
    {
     "name": "stdout",
     "output_type": "stream",
     "text": [
      "21\n",
      "(4852, 1581, 4852, 1581)\n",
      "(4852, 4852)\n",
      "2574\n",
      "7130\n"
     ]
    }
   ],
   "source": [
    "print(partial_x_train[120][45])\n",
    "print(partial_x_train.shape + x_val.shape)\n",
    "print(partial_y_train.shape + y_val.shape)\n",
    "print(len(gen_id_ee))\n",
    "print(len(gen_id_bb))"
   ]
  },
  {
   "cell_type": "code",
   "execution_count": 30,
   "metadata": {},
   "outputs": [
    {
     "name": "stdout",
     "output_type": "stream",
     "text": [
      "_________________________________________________________________\n",
      "Layer (type)                 Output Shape              Param #   \n",
      "=================================================================\n",
      "dense (Dense)                multiple                  404992    \n",
      "_________________________________________________________________\n",
      "dense_1 (Dense)              multiple                  4112      \n",
      "=================================================================\n",
      "Total params: 409,104\n",
      "Trainable params: 409,104\n",
      "Non-trainable params: 0\n",
      "_________________________________________________________________\n"
     ]
    }
   ],
   "source": [
    "model.summary()"
   ]
  },
  {
   "cell_type": "code",
   "execution_count": null,
   "metadata": {},
   "outputs": [],
   "source": []
  }
 ],
 "metadata": {
  "kernelspec": {
   "display_name": "Python 3",
   "language": "python",
   "name": "python3"
  },
  "language_info": {
   "codemirror_mode": {
    "name": "ipython",
    "version": 3
   },
   "file_extension": ".py",
   "mimetype": "text/x-python",
   "name": "python",
   "nbconvert_exporter": "python",
   "pygments_lexer": "ipython3",
   "version": "3.6.8"
  }
 },
 "nbformat": 4,
 "nbformat_minor": 2
}
